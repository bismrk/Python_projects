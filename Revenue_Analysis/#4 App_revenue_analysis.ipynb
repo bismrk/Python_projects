{
 "cells": [
  {
   "metadata": {},
   "cell_type": "markdown",
   "source": "Revenue Analysis",
   "id": "8a77807f92f26ee"
  },
  {
   "metadata": {
    "ExecuteTime": {
     "end_time": "2024-05-15T07:08:07.891271Z",
     "start_time": "2024-05-15T07:08:07.886895Z"
    }
   },
   "cell_type": "code",
   "source": [
    "# Import libraries\n",
    "import pandas as pd\n",
    "import matplotlib.pyplot as plt\n",
    "import seaborn as sns\n",
    "import datetime\n",
    "import math"
   ],
   "id": "7df9140457caed5e",
   "outputs": [],
   "execution_count": 1
  },
  {
   "metadata": {
    "collapsed": true,
    "ExecuteTime": {
     "end_time": "2024-05-15T07:08:08.842085Z",
     "start_time": "2024-05-15T07:08:07.893278Z"
    }
   },
   "cell_type": "code",
   "source": [
    "df_app = pd.read_csv(\"D:\\\\Тестові_завдання\\\\Universe\\\\test1_app_events.csv\")\n",
    "df_app.shape"
   ],
   "id": "initial_id",
   "outputs": [
    {
     "data": {
      "text/plain": [
       "(203401, 3)"
      ]
     },
     "execution_count": 2,
     "metadata": {},
     "output_type": "execute_result"
    }
   ],
   "execution_count": 2
  },
  {
   "metadata": {
    "ExecuteTime": {
     "end_time": "2024-05-15T07:08:09.489686Z",
     "start_time": "2024-05-15T07:08:09.295058Z"
    }
   },
   "cell_type": "code",
   "source": [
    "df_pay = pd.read_csv(\"D:\\\\Тестові_завдання\\\\Universe\\\\test1_payments.csv\")\n",
    "df_pay.shape"
   ],
   "id": "e65e58a1b7e04493",
   "outputs": [
    {
     "data": {
      "text/plain": [
       "(35410, 3)"
      ]
     },
     "execution_count": 3,
     "metadata": {},
     "output_type": "execute_result"
    }
   ],
   "execution_count": 3
  },
  {
   "metadata": {
    "ExecuteTime": {
     "end_time": "2024-05-15T07:08:09.897569Z",
     "start_time": "2024-05-15T07:08:09.784188Z"
    }
   },
   "cell_type": "code",
   "source": [
    "df = pd.merge(df_app, df_pay, on = 'user_id', how = 'inner')\n",
    "df.shape"
   ],
   "id": "dfe790bcff7f2d63",
   "outputs": [
    {
     "data": {
      "text/plain": [
       "(172866, 5)"
      ]
     },
     "execution_count": 4,
     "metadata": {},
     "output_type": "execute_result"
    }
   ],
   "execution_count": 4
  },
  {
   "metadata": {},
   "cell_type": "markdown",
   "source": "EDA",
   "id": "d533d80fe3c3e9d0"
  },
  {
   "metadata": {},
   "cell_type": "markdown",
   "source": "",
   "id": "ff655f45a3e7c37d"
  },
  {
   "metadata": {
    "ExecuteTime": {
     "end_time": "2024-05-15T07:08:11.557117Z",
     "start_time": "2024-05-15T07:08:11.531482Z"
    }
   },
   "cell_type": "code",
   "source": [
    "# nan значень нема\n",
    "df_app.isnull().sum()"
   ],
   "id": "1cbf283cfaa439c2",
   "outputs": [
    {
     "data": {
      "text/plain": [
       "user_id       0\n",
       "event_type    0\n",
       "event_time    0\n",
       "dtype: int64"
      ]
     },
     "execution_count": 5,
     "metadata": {},
     "output_type": "execute_result"
    }
   ],
   "execution_count": 5
  },
  {
   "metadata": {
    "ExecuteTime": {
     "end_time": "2024-05-15T07:08:12.471198Z",
     "start_time": "2024-05-15T07:08:12.461451Z"
    }
   },
   "cell_type": "code",
   "source": [
    "# Нульових значень нема\n",
    "df_pay.isnull().sum()"
   ],
   "id": "8d0ea8866fd6e94",
   "outputs": [
    {
     "data": {
      "text/plain": [
       "user_id       0\n",
       "event_type    0\n",
       "event_time    0\n",
       "dtype: int64"
      ]
     },
     "execution_count": 6,
     "metadata": {},
     "output_type": "execute_result"
    }
   ],
   "execution_count": 6
  },
  {
   "metadata": {
    "ExecuteTime": {
     "end_time": "2024-05-15T07:08:13.426897Z",
     "start_time": "2024-05-15T07:08:13.392207Z"
    }
   },
   "cell_type": "code",
   "source": "df_app.info() # Колонка event_time має неправильний формат ",
   "id": "b0a87c2357549002",
   "outputs": [
    {
     "name": "stdout",
     "output_type": "stream",
     "text": [
      "<class 'pandas.core.frame.DataFrame'>\n",
      "RangeIndex: 203401 entries, 0 to 203400\n",
      "Data columns (total 3 columns):\n",
      " #   Column      Non-Null Count   Dtype \n",
      "---  ------      --------------   ----- \n",
      " 0   user_id     203401 non-null  object\n",
      " 1   event_type  203401 non-null  object\n",
      " 2   event_time  203401 non-null  object\n",
      "dtypes: object(3)\n",
      "memory usage: 4.7+ MB\n"
     ]
    }
   ],
   "execution_count": 7
  },
  {
   "metadata": {
    "ExecuteTime": {
     "end_time": "2024-05-15T07:08:14.298408Z",
     "start_time": "2024-05-15T07:08:14.070986Z"
    }
   },
   "cell_type": "code",
   "source": [
    "# Змінюємо тип колонки на datetime для датасета df_app\n",
    "df_app['event_time'] = pd.to_datetime(df_app['event_time'])\n",
    "df_app['event_time'] = df_app['event_time'].dt.date"
   ],
   "id": "17311107350dbaeb",
   "outputs": [],
   "execution_count": 8
  },
  {
   "metadata": {
    "ExecuteTime": {
     "end_time": "2024-05-15T07:08:14.824034Z",
     "start_time": "2024-05-15T07:08:14.812465Z"
    }
   },
   "cell_type": "code",
   "source": "df_pay.info()",
   "id": "e9bbab18277b2a5c",
   "outputs": [
    {
     "name": "stdout",
     "output_type": "stream",
     "text": [
      "<class 'pandas.core.frame.DataFrame'>\n",
      "RangeIndex: 35410 entries, 0 to 35409\n",
      "Data columns (total 3 columns):\n",
      " #   Column      Non-Null Count  Dtype \n",
      "---  ------      --------------  ----- \n",
      " 0   user_id     35410 non-null  object\n",
      " 1   event_type  35410 non-null  object\n",
      " 2   event_time  35410 non-null  object\n",
      "dtypes: object(3)\n",
      "memory usage: 830.1+ KB\n"
     ]
    }
   ],
   "execution_count": 9
  },
  {
   "metadata": {
    "ExecuteTime": {
     "end_time": "2024-05-15T07:08:15.819122Z",
     "start_time": "2024-05-15T07:08:15.776130Z"
    }
   },
   "cell_type": "code",
   "source": [
    "# Аналогічно змінюємо тип колонки на datetime для датасета df_pay\n",
    "df_pay['event_time'] = pd.to_datetime(df_pay['event_time'])\n",
    "#df_pay['event_time'] = df_pay['event_time'].dt.date\n",
    "df_pay"
   ],
   "id": "281b457507450c27",
   "outputs": [
    {
     "data": {
      "text/plain": [
       "                                             user_id event_type  \\\n",
       "0      scanner2#ab4abd6b-8842-4cb6-b9f1-08de9b134a3f    payment   \n",
       "1      scanner2#948e3d68-397f-4be9-966e-00bf1acbcf39    payment   \n",
       "2      scanner2#476e50e5-09ff-455e-84dd-981d6fbaa8b5    payment   \n",
       "3      scanner2#7ffd8fb0-bb37-4a00-b008-1696336d81f7    payment   \n",
       "4      scanner2#960f0c85-5cdc-41ef-849b-626b9cf4df9b    payment   \n",
       "...                                              ...        ...   \n",
       "35405  scanner2#8495f4c1-c2f9-4294-87de-e69e80e385de    payment   \n",
       "35406  scanner2#def1d08d-d3c7-44e8-b540-cc2939d29fcc    payment   \n",
       "35407  scanner2#c9adc4e9-da2d-4bd9-8646-1ee4581ba073    payment   \n",
       "35408  scanner2#68d7a395-ba35-40b6-a25e-349dee3058f0    payment   \n",
       "35409  scanner2#a630e2e3-bf2c-4d94-9410-9af1570f622f    payment   \n",
       "\n",
       "                   event_time  \n",
       "0     2023-02-05 13:03:54.032  \n",
       "1     2023-02-05 13:06:50.305  \n",
       "2     2023-02-05 13:12:03.019  \n",
       "3     2023-02-05 13:29:46.132  \n",
       "4     2023-02-05 13:53:28.473  \n",
       "...                       ...  \n",
       "35405 2023-02-05 12:50:28.705  \n",
       "35406 2023-02-05 12:52:11.995  \n",
       "35407 2023-02-05 12:54:12.612  \n",
       "35408 2023-02-05 12:54:26.487  \n",
       "35409 2023-02-05 12:58:55.041  \n",
       "\n",
       "[35410 rows x 3 columns]"
      ],
      "text/html": [
       "<div>\n",
       "<style scoped>\n",
       "    .dataframe tbody tr th:only-of-type {\n",
       "        vertical-align: middle;\n",
       "    }\n",
       "\n",
       "    .dataframe tbody tr th {\n",
       "        vertical-align: top;\n",
       "    }\n",
       "\n",
       "    .dataframe thead th {\n",
       "        text-align: right;\n",
       "    }\n",
       "</style>\n",
       "<table border=\"1\" class=\"dataframe\">\n",
       "  <thead>\n",
       "    <tr style=\"text-align: right;\">\n",
       "      <th></th>\n",
       "      <th>user_id</th>\n",
       "      <th>event_type</th>\n",
       "      <th>event_time</th>\n",
       "    </tr>\n",
       "  </thead>\n",
       "  <tbody>\n",
       "    <tr>\n",
       "      <th>0</th>\n",
       "      <td>scanner2#ab4abd6b-8842-4cb6-b9f1-08de9b134a3f</td>\n",
       "      <td>payment</td>\n",
       "      <td>2023-02-05 13:03:54.032</td>\n",
       "    </tr>\n",
       "    <tr>\n",
       "      <th>1</th>\n",
       "      <td>scanner2#948e3d68-397f-4be9-966e-00bf1acbcf39</td>\n",
       "      <td>payment</td>\n",
       "      <td>2023-02-05 13:06:50.305</td>\n",
       "    </tr>\n",
       "    <tr>\n",
       "      <th>2</th>\n",
       "      <td>scanner2#476e50e5-09ff-455e-84dd-981d6fbaa8b5</td>\n",
       "      <td>payment</td>\n",
       "      <td>2023-02-05 13:12:03.019</td>\n",
       "    </tr>\n",
       "    <tr>\n",
       "      <th>3</th>\n",
       "      <td>scanner2#7ffd8fb0-bb37-4a00-b008-1696336d81f7</td>\n",
       "      <td>payment</td>\n",
       "      <td>2023-02-05 13:29:46.132</td>\n",
       "    </tr>\n",
       "    <tr>\n",
       "      <th>4</th>\n",
       "      <td>scanner2#960f0c85-5cdc-41ef-849b-626b9cf4df9b</td>\n",
       "      <td>payment</td>\n",
       "      <td>2023-02-05 13:53:28.473</td>\n",
       "    </tr>\n",
       "    <tr>\n",
       "      <th>...</th>\n",
       "      <td>...</td>\n",
       "      <td>...</td>\n",
       "      <td>...</td>\n",
       "    </tr>\n",
       "    <tr>\n",
       "      <th>35405</th>\n",
       "      <td>scanner2#8495f4c1-c2f9-4294-87de-e69e80e385de</td>\n",
       "      <td>payment</td>\n",
       "      <td>2023-02-05 12:50:28.705</td>\n",
       "    </tr>\n",
       "    <tr>\n",
       "      <th>35406</th>\n",
       "      <td>scanner2#def1d08d-d3c7-44e8-b540-cc2939d29fcc</td>\n",
       "      <td>payment</td>\n",
       "      <td>2023-02-05 12:52:11.995</td>\n",
       "    </tr>\n",
       "    <tr>\n",
       "      <th>35407</th>\n",
       "      <td>scanner2#c9adc4e9-da2d-4bd9-8646-1ee4581ba073</td>\n",
       "      <td>payment</td>\n",
       "      <td>2023-02-05 12:54:12.612</td>\n",
       "    </tr>\n",
       "    <tr>\n",
       "      <th>35408</th>\n",
       "      <td>scanner2#68d7a395-ba35-40b6-a25e-349dee3058f0</td>\n",
       "      <td>payment</td>\n",
       "      <td>2023-02-05 12:54:26.487</td>\n",
       "    </tr>\n",
       "    <tr>\n",
       "      <th>35409</th>\n",
       "      <td>scanner2#a630e2e3-bf2c-4d94-9410-9af1570f622f</td>\n",
       "      <td>payment</td>\n",
       "      <td>2023-02-05 12:58:55.041</td>\n",
       "    </tr>\n",
       "  </tbody>\n",
       "</table>\n",
       "<p>35410 rows × 3 columns</p>\n",
       "</div>"
      ]
     },
     "execution_count": 10,
     "metadata": {},
     "output_type": "execute_result"
    }
   ],
   "execution_count": 10
  },
  {
   "metadata": {},
   "cell_type": "markdown",
   "source": "Необхідно проаналізувати функціонал редагування документів — хто і як ним користується, як він впливає на платежі та доходи. \n",
   "id": "c692cfd4745b53e2"
  },
  {
   "metadata": {
    "ExecuteTime": {
     "end_time": "2024-05-15T07:08:17.642593Z",
     "start_time": "2024-05-15T07:08:17.545241Z"
    }
   },
   "cell_type": "code",
   "source": [
    "# Кількість унікальних юзерів які робили редагування або сканування\n",
    "df_users_type = df_app.groupby('event_type')['user_id'].nunique()\n",
    "df_users_type = df_users_type.reset_index()\n",
    "df_users_type.columns = ['event_type', 'unique_users']\n",
    "df_users_type"
   ],
   "id": "b8aacffd30594f12",
   "outputs": [
    {
     "data": {
      "text/plain": [
       "   event_type  unique_users\n",
       "0  adjustment          9349\n",
       "1  onboarding        115077\n",
       "2        scan         31818"
      ],
      "text/html": [
       "<div>\n",
       "<style scoped>\n",
       "    .dataframe tbody tr th:only-of-type {\n",
       "        vertical-align: middle;\n",
       "    }\n",
       "\n",
       "    .dataframe tbody tr th {\n",
       "        vertical-align: top;\n",
       "    }\n",
       "\n",
       "    .dataframe thead th {\n",
       "        text-align: right;\n",
       "    }\n",
       "</style>\n",
       "<table border=\"1\" class=\"dataframe\">\n",
       "  <thead>\n",
       "    <tr style=\"text-align: right;\">\n",
       "      <th></th>\n",
       "      <th>event_type</th>\n",
       "      <th>unique_users</th>\n",
       "    </tr>\n",
       "  </thead>\n",
       "  <tbody>\n",
       "    <tr>\n",
       "      <th>0</th>\n",
       "      <td>adjustment</td>\n",
       "      <td>9349</td>\n",
       "    </tr>\n",
       "    <tr>\n",
       "      <th>1</th>\n",
       "      <td>onboarding</td>\n",
       "      <td>115077</td>\n",
       "    </tr>\n",
       "    <tr>\n",
       "      <th>2</th>\n",
       "      <td>scan</td>\n",
       "      <td>31818</td>\n",
       "    </tr>\n",
       "  </tbody>\n",
       "</table>\n",
       "</div>"
      ]
     },
     "execution_count": 11,
     "metadata": {},
     "output_type": "execute_result"
    }
   ],
   "execution_count": 11
  },
  {
   "metadata": {
    "ExecuteTime": {
     "end_time": "2024-05-15T07:08:18.570063Z",
     "start_time": "2024-05-15T07:08:18.346581Z"
    }
   },
   "cell_type": "code",
   "source": [
    "# Побудова графіку\n",
    "plt.figure(figsize=(13, 5))\n",
    "plt.bar(df_users_type['event_type'], df_users_type['unique_users'])\n",
    "plt.ylabel('Number of Unique Users')\n",
    "plt.title('Histogram of Unique Users per Event Type')\n",
    "plt.tight_layout()  # Для покращення компактності графіку\n",
    "plt.show()"
   ],
   "id": "395a9c643c38bde6",
   "outputs": [
    {
     "data": {
      "text/plain": [
       "<Figure size 1300x500 with 1 Axes>"
      ],
      "image/png": "[encoded data removed]"
     },
     "metadata": {},
     "output_type": "display_data"
    }
   ],
   "execution_count": 12
  },
  {
   "metadata": {},
   "cell_type": "markdown",
   "source": "З графіку можемо зробити висновок, що всі користувачі в датасеті пройшли онбординг, та що більшість користувачів використовує застосунок для сканування.",
   "id": "c849633c53d4288"
  },
  {
   "metadata": {},
   "cell_type": "markdown",
   "source": "Користувачі які зробили 3 безкоштовні сканування.",
   "id": "3c4f98a51a2e1ca9"
  },
  {
   "metadata": {
    "ExecuteTime": {
     "end_time": "2024-05-15T07:08:20.827637Z",
     "start_time": "2024-05-15T07:08:20.561703Z"
    }
   },
   "cell_type": "code",
   "source": [
    "# Викидаємо з датасету користувачів які є в базі платників\n",
    "# Використовуємо pivot_table для підрахунку кількості кожного типу події для кожного user_id\n",
    "event_counts = pd.pivot_table(df_app[~df_app['user_id'].isin(df_pay['user_id'].unique())], index='user_id', columns='event_type', aggfunc='size', fill_value=0)\n",
    "# Додаємо умову вибору, щоб залишити лише ті рядки, де scan_count < 4\n",
    "event_counts_filtered = event_counts[(event_counts['scan'] < 4) & (event_counts['scan'] > 0)]\n",
    "event_counts_filtered.columns = ['adjustment_count', 'onboarding_count', 'scan_count']\n",
    "event_counts_filtered\n",
    "#event_counts[(event_counts['scan'] + (event_counts['adjustment'] <4) & (event_counts['scan'] + event_counts['adjustment']) > 0)].reset_index()"
   ],
   "id": "c03f35d2482d37fc",
   "outputs": [
    {
     "data": {
      "text/plain": [
       "                                               adjustment_count  \\\n",
       "user_id                                                           \n",
       "scanner2#000284a7-19a8-4c00-8bce-fd997affeb5c                 0   \n",
       "scanner2#00037c4e-5f94-4d5c-afbd-438cc773a2eb                 0   \n",
       "scanner2#00066168-cf89-404d-b60f-4fec9a4c60c5                 0   \n",
       "scanner2#00086dc7-3510-4022-b900-dbef76931c68                 0   \n",
       "scanner2#000eb918-002b-4dbe-a968-e901076474cc                 1   \n",
       "...                                                         ...   \n",
       "scanner2#fffa99fd-5ffe-4749-83a0-319272d2ed0b                 0   \n",
       "scanner2#fffbce0e-189c-4a2e-be8d-117073d17ead                 0   \n",
       "scanner2#fffc7d41-78f5-42ef-9d83-265e5beba99d                 1   \n",
       "scanner2#fffd04f9-2d88-47a2-92bd-98a928b6eab4                 0   \n",
       "scanner2#fffdc156-fb66-441f-978e-60678264c29f                 1   \n",
       "\n",
       "                                               onboarding_count  scan_count  \n",
       "user_id                                                                      \n",
       "scanner2#000284a7-19a8-4c00-8bce-fd997affeb5c                 1           1  \n",
       "scanner2#00037c4e-5f94-4d5c-afbd-438cc773a2eb                 1           1  \n",
       "scanner2#00066168-cf89-404d-b60f-4fec9a4c60c5                 1           2  \n",
       "scanner2#00086dc7-3510-4022-b900-dbef76931c68                 1           1  \n",
       "scanner2#000eb918-002b-4dbe-a968-e901076474cc                 1           2  \n",
       "...                                                         ...         ...  \n",
       "scanner2#fffa99fd-5ffe-4749-83a0-319272d2ed0b                 1           2  \n",
       "scanner2#fffbce0e-189c-4a2e-be8d-117073d17ead                 1           1  \n",
       "scanner2#fffc7d41-78f5-42ef-9d83-265e5beba99d                 1           2  \n",
       "scanner2#fffd04f9-2d88-47a2-92bd-98a928b6eab4                 1           2  \n",
       "scanner2#fffdc156-fb66-441f-978e-60678264c29f                 1           3  \n",
       "\n",
       "[23264 rows x 3 columns]"
      ],
      "text/html": [
       "<div>\n",
       "<style scoped>\n",
       "    .dataframe tbody tr th:only-of-type {\n",
       "        vertical-align: middle;\n",
       "    }\n",
       "\n",
       "    .dataframe tbody tr th {\n",
       "        vertical-align: top;\n",
       "    }\n",
       "\n",
       "    .dataframe thead th {\n",
       "        text-align: right;\n",
       "    }\n",
       "</style>\n",
       "<table border=\"1\" class=\"dataframe\">\n",
       "  <thead>\n",
       "    <tr style=\"text-align: right;\">\n",
       "      <th></th>\n",
       "      <th>adjustment_count</th>\n",
       "      <th>onboarding_count</th>\n",
       "      <th>scan_count</th>\n",
       "    </tr>\n",
       "    <tr>\n",
       "      <th>user_id</th>\n",
       "      <th></th>\n",
       "      <th></th>\n",
       "      <th></th>\n",
       "    </tr>\n",
       "  </thead>\n",
       "  <tbody>\n",
       "    <tr>\n",
       "      <th>scanner2#000284a7-19a8-4c00-8bce-fd997affeb5c</th>\n",
       "      <td>0</td>\n",
       "      <td>1</td>\n",
       "      <td>1</td>\n",
       "    </tr>\n",
       "    <tr>\n",
       "      <th>scanner2#00037c4e-5f94-4d5c-afbd-438cc773a2eb</th>\n",
       "      <td>0</td>\n",
       "      <td>1</td>\n",
       "      <td>1</td>\n",
       "    </tr>\n",
       "    <tr>\n",
       "      <th>scanner2#00066168-cf89-404d-b60f-4fec9a4c60c5</th>\n",
       "      <td>0</td>\n",
       "      <td>1</td>\n",
       "      <td>2</td>\n",
       "    </tr>\n",
       "    <tr>\n",
       "      <th>scanner2#00086dc7-3510-4022-b900-dbef76931c68</th>\n",
       "      <td>0</td>\n",
       "      <td>1</td>\n",
       "      <td>1</td>\n",
       "    </tr>\n",
       "    <tr>\n",
       "      <th>scanner2#000eb918-002b-4dbe-a968-e901076474cc</th>\n",
       "      <td>1</td>\n",
       "      <td>1</td>\n",
       "      <td>2</td>\n",
       "    </tr>\n",
       "    <tr>\n",
       "      <th>...</th>\n",
       "      <td>...</td>\n",
       "      <td>...</td>\n",
       "      <td>...</td>\n",
       "    </tr>\n",
       "    <tr>\n",
       "      <th>scanner2#fffa99fd-5ffe-4749-83a0-319272d2ed0b</th>\n",
       "      <td>0</td>\n",
       "      <td>1</td>\n",
       "      <td>2</td>\n",
       "    </tr>\n",
       "    <tr>\n",
       "      <th>scanner2#fffbce0e-189c-4a2e-be8d-117073d17ead</th>\n",
       "      <td>0</td>\n",
       "      <td>1</td>\n",
       "      <td>1</td>\n",
       "    </tr>\n",
       "    <tr>\n",
       "      <th>scanner2#fffc7d41-78f5-42ef-9d83-265e5beba99d</th>\n",
       "      <td>1</td>\n",
       "      <td>1</td>\n",
       "      <td>2</td>\n",
       "    </tr>\n",
       "    <tr>\n",
       "      <th>scanner2#fffd04f9-2d88-47a2-92bd-98a928b6eab4</th>\n",
       "      <td>0</td>\n",
       "      <td>1</td>\n",
       "      <td>2</td>\n",
       "    </tr>\n",
       "    <tr>\n",
       "      <th>scanner2#fffdc156-fb66-441f-978e-60678264c29f</th>\n",
       "      <td>1</td>\n",
       "      <td>1</td>\n",
       "      <td>3</td>\n",
       "    </tr>\n",
       "  </tbody>\n",
       "</table>\n",
       "<p>23264 rows × 3 columns</p>\n",
       "</div>"
      ]
     },
     "execution_count": 13,
     "metadata": {},
     "output_type": "execute_result"
    }
   ],
   "execution_count": 13
  },
  {
   "metadata": {},
   "cell_type": "markdown",
   "source": "Юзери які зробили більше 3-х сканувань і яких немає в базі платників",
   "id": "b2a040945b845230"
  },
  {
   "metadata": {
    "ExecuteTime": {
     "end_time": "2024-05-15T07:08:22.465703Z",
     "start_time": "2024-05-15T07:08:22.213219Z"
    }
   },
   "cell_type": "code",
   "source": [
    "# Датасет в якому юзери яких немає в базі платників\n",
    "df_free = df_app[~df_app['user_id'].isin(df_pay['user_id'].unique())]\n",
    "df_free = df_free.groupby(['user_id', 'event_type']).size().unstack(fill_value=0)\n",
    "# датасет в якому користувачі які робили більше 3-х сканувань і при цьому їх нема в базі платників\n",
    "df_bad_users = df_free[df_free['scan'] > 3].reset_index()\n",
    "# кількість унікальних користувачі які робили більше 3-х сканувань і при цьому їх нема в базі платників\n",
    "count_bad_users = df_bad_users.user_id.nunique()\n",
    "df_bad_users"
   ],
   "id": "7097a046db4efdf",
   "outputs": [
    {
     "data": {
      "text/plain": [
       "event_type                                        user_id  adjustment  \\\n",
       "0           scanner2#00225cec-cd37-4f69-8d4b-6fa1c8056c3f           3   \n",
       "1           scanner2#00562e13-7adf-42c8-b669-b245192c5d0a           0   \n",
       "2           scanner2#005684e2-944e-48eb-bcdd-b07ebfb851c7           0   \n",
       "3           scanner2#007f596a-bdf4-4d88-9468-70d08862c14e           5   \n",
       "4           scanner2#00801f2a-c219-4c68-870c-bd85451ad708           2   \n",
       "...                                                   ...         ...   \n",
       "2182        scanner2#ff896f32-d676-4ded-93b4-e50205376576           2   \n",
       "2183        scanner2#ff96e6a8-fc15-49a5-803c-62cc7824b159           2   \n",
       "2184        scanner2#ffa574a2-ed97-4e57-9b0a-f324b4bc3167           0   \n",
       "2185        scanner2#ffd3be4f-79ad-4eb3-9563-02c925588108           1   \n",
       "2186        scanner2#ffdfadf1-a785-44c8-a606-0a2293d7eb50           0   \n",
       "\n",
       "event_type  onboarding  scan  \n",
       "0                    1     6  \n",
       "1                    1     4  \n",
       "2                    1     4  \n",
       "3                    1     6  \n",
       "4                    1    10  \n",
       "...                ...   ...  \n",
       "2182                 1    10  \n",
       "2183                 1   279  \n",
       "2184                 1     4  \n",
       "2185                 1     7  \n",
       "2186                 1    32  \n",
       "\n",
       "[2187 rows x 4 columns]"
      ],
      "text/html": [
       "<div>\n",
       "<style scoped>\n",
       "    .dataframe tbody tr th:only-of-type {\n",
       "        vertical-align: middle;\n",
       "    }\n",
       "\n",
       "    .dataframe tbody tr th {\n",
       "        vertical-align: top;\n",
       "    }\n",
       "\n",
       "    .dataframe thead th {\n",
       "        text-align: right;\n",
       "    }\n",
       "</style>\n",
       "<table border=\"1\" class=\"dataframe\">\n",
       "  <thead>\n",
       "    <tr style=\"text-align: right;\">\n",
       "      <th>event_type</th>\n",
       "      <th>user_id</th>\n",
       "      <th>adjustment</th>\n",
       "      <th>onboarding</th>\n",
       "      <th>scan</th>\n",
       "    </tr>\n",
       "  </thead>\n",
       "  <tbody>\n",
       "    <tr>\n",
       "      <th>0</th>\n",
       "      <td>scanner2#00225cec-cd37-4f69-8d4b-6fa1c8056c3f</td>\n",
       "      <td>3</td>\n",
       "      <td>1</td>\n",
       "      <td>6</td>\n",
       "    </tr>\n",
       "    <tr>\n",
       "      <th>1</th>\n",
       "      <td>scanner2#00562e13-7adf-42c8-b669-b245192c5d0a</td>\n",
       "      <td>0</td>\n",
       "      <td>1</td>\n",
       "      <td>4</td>\n",
       "    </tr>\n",
       "    <tr>\n",
       "      <th>2</th>\n",
       "      <td>scanner2#005684e2-944e-48eb-bcdd-b07ebfb851c7</td>\n",
       "      <td>0</td>\n",
       "      <td>1</td>\n",
       "      <td>4</td>\n",
       "    </tr>\n",
       "    <tr>\n",
       "      <th>3</th>\n",
       "      <td>scanner2#007f596a-bdf4-4d88-9468-70d08862c14e</td>\n",
       "      <td>5</td>\n",
       "      <td>1</td>\n",
       "      <td>6</td>\n",
       "    </tr>\n",
       "    <tr>\n",
       "      <th>4</th>\n",
       "      <td>scanner2#00801f2a-c219-4c68-870c-bd85451ad708</td>\n",
       "      <td>2</td>\n",
       "      <td>1</td>\n",
       "      <td>10</td>\n",
       "    </tr>\n",
       "    <tr>\n",
       "      <th>...</th>\n",
       "      <td>...</td>\n",
       "      <td>...</td>\n",
       "      <td>...</td>\n",
       "      <td>...</td>\n",
       "    </tr>\n",
       "    <tr>\n",
       "      <th>2182</th>\n",
       "      <td>scanner2#ff896f32-d676-4ded-93b4-e50205376576</td>\n",
       "      <td>2</td>\n",
       "      <td>1</td>\n",
       "      <td>10</td>\n",
       "    </tr>\n",
       "    <tr>\n",
       "      <th>2183</th>\n",
       "      <td>scanner2#ff96e6a8-fc15-49a5-803c-62cc7824b159</td>\n",
       "      <td>2</td>\n",
       "      <td>1</td>\n",
       "      <td>279</td>\n",
       "    </tr>\n",
       "    <tr>\n",
       "      <th>2184</th>\n",
       "      <td>scanner2#ffa574a2-ed97-4e57-9b0a-f324b4bc3167</td>\n",
       "      <td>0</td>\n",
       "      <td>1</td>\n",
       "      <td>4</td>\n",
       "    </tr>\n",
       "    <tr>\n",
       "      <th>2185</th>\n",
       "      <td>scanner2#ffd3be4f-79ad-4eb3-9563-02c925588108</td>\n",
       "      <td>1</td>\n",
       "      <td>1</td>\n",
       "      <td>7</td>\n",
       "    </tr>\n",
       "    <tr>\n",
       "      <th>2186</th>\n",
       "      <td>scanner2#ffdfadf1-a785-44c8-a606-0a2293d7eb50</td>\n",
       "      <td>0</td>\n",
       "      <td>1</td>\n",
       "      <td>32</td>\n",
       "    </tr>\n",
       "  </tbody>\n",
       "</table>\n",
       "<p>2187 rows × 4 columns</p>\n",
       "</div>"
      ]
     },
     "execution_count": 14,
     "metadata": {},
     "output_type": "execute_result"
    }
   ],
   "execution_count": 14
  },
  {
   "metadata": {},
   "cell_type": "markdown",
   "source": [
    "Моя гіпотеза полягає в тому, що це юзери, які ввели всі дані для оплати, і почали використовувати преміум версію застосунку, до того часу коли мали знятись кошти.Але скоріш за все на карті було недостатньо коштів, тому користувач використовував премімум версію протягом цього часу безкоштовно :( \n",
    "Передивишись дані цих юзерів, серед них багато тих хто робив цю операцію повторно, тобто це люди яким потрібен цей застосунок і це потенційні клієнти.Або ж це люди які цим зловживають і не платять гроші."
   ],
   "id": "dfea72de1e7b792d"
  },
  {
   "metadata": {},
   "cell_type": "markdown",
   "source": "### Другий етап.З'єднаємо два датасети, та будемо працювати з користувачами які є в базі платників та в базі івентів.",
   "id": "42433b6265fbcc0f"
  },
  {
   "metadata": {
    "ExecuteTime": {
     "end_time": "2024-05-15T07:08:24.596320Z",
     "start_time": "2024-05-15T07:08:24.488137Z"
    }
   },
   "cell_type": "code",
   "source": [
    "# Зробимо inner join датасетів df_pay та df_app \n",
    "df_full2 = df_app.merge(df_pay, on = 'user_id', how = 'inner')\n",
    "df_full2"
   ],
   "id": "bfce10d31715176f",
   "outputs": [
    {
     "data": {
      "text/plain": [
       "                                              user_id event_type_x  \\\n",
       "0       scanner2#88c8fafe-fd39-4774-abb1-bd64c94d023c   onboarding   \n",
       "1       scanner2#88c8fafe-fd39-4774-abb1-bd64c94d023c   onboarding   \n",
       "2       scanner2#e0de5cdf-31cf-49b6-accf-26d6ee2fa7df   onboarding   \n",
       "3       scanner2#e0de5cdf-31cf-49b6-accf-26d6ee2fa7df   onboarding   \n",
       "4       scanner2#58666c56-107e-48bf-97be-e0db9a717f1d   onboarding   \n",
       "...                                               ...          ...   \n",
       "172861  scanner2#d9072822-3b6a-4330-a9c6-3770b78d4637   onboarding   \n",
       "172862  scanner2#007e9116-9352-481a-9c07-65d7434cfb5c   onboarding   \n",
       "172863  scanner2#007e9116-9352-481a-9c07-65d7434cfb5c   onboarding   \n",
       "172864  scanner2#e15c8e12-9374-4191-99e3-0a77ee144667   onboarding   \n",
       "172865  scanner2#e15c8e12-9374-4191-99e3-0a77ee144667   onboarding   \n",
       "\n",
       "       event_time_x            event_type_y            event_time_y  \n",
       "0        2022-11-29              took_trial 2022-11-29 09:14:58.125  \n",
       "1        2022-11-29  cancelled_subscription 2022-12-01 06:09:59.817  \n",
       "2        2022-11-28              took_trial 2022-11-28 08:43:21.997  \n",
       "3        2022-11-28  cancelled_subscription 2022-11-28 08:44:30.462  \n",
       "4        2022-11-16              took_trial 2022-11-16 12:27:45.275  \n",
       "...             ...                     ...                     ...  \n",
       "172861   2022-11-22              took_trial 2022-11-22 00:53:16.801  \n",
       "172862   2022-11-20              took_trial 2022-11-20 06:36:53.457  \n",
       "172863   2022-11-20  cancelled_subscription 2022-11-20 06:38:27.889  \n",
       "172864   2022-11-22  cancelled_subscription 2022-11-22 11:37:58.943  \n",
       "172865   2022-11-22              took_trial 2022-11-22 12:34:36.416  \n",
       "\n",
       "[172866 rows x 5 columns]"
      ],
      "text/html": [
       "<div>\n",
       "<style scoped>\n",
       "    .dataframe tbody tr th:only-of-type {\n",
       "        vertical-align: middle;\n",
       "    }\n",
       "\n",
       "    .dataframe tbody tr th {\n",
       "        vertical-align: top;\n",
       "    }\n",
       "\n",
       "    .dataframe thead th {\n",
       "        text-align: right;\n",
       "    }\n",
       "</style>\n",
       "<table border=\"1\" class=\"dataframe\">\n",
       "  <thead>\n",
       "    <tr style=\"text-align: right;\">\n",
       "      <th></th>\n",
       "      <th>user_id</th>\n",
       "      <th>event_type_x</th>\n",
       "      <th>event_time_x</th>\n",
       "      <th>event_type_y</th>\n",
       "      <th>event_time_y</th>\n",
       "    </tr>\n",
       "  </thead>\n",
       "  <tbody>\n",
       "    <tr>\n",
       "      <th>0</th>\n",
       "      <td>scanner2#88c8fafe-fd39-4774-abb1-bd64c94d023c</td>\n",
       "      <td>onboarding</td>\n",
       "      <td>2022-11-29</td>\n",
       "      <td>took_trial</td>\n",
       "      <td>2022-11-29 09:14:58.125</td>\n",
       "    </tr>\n",
       "    <tr>\n",
       "      <th>1</th>\n",
       "      <td>scanner2#88c8fafe-fd39-4774-abb1-bd64c94d023c</td>\n",
       "      <td>onboarding</td>\n",
       "      <td>2022-11-29</td>\n",
       "      <td>cancelled_subscription</td>\n",
       "      <td>2022-12-01 06:09:59.817</td>\n",
       "    </tr>\n",
       "    <tr>\n",
       "      <th>2</th>\n",
       "      <td>scanner2#e0de5cdf-31cf-49b6-accf-26d6ee2fa7df</td>\n",
       "      <td>onboarding</td>\n",
       "      <td>2022-11-28</td>\n",
       "      <td>took_trial</td>\n",
       "      <td>2022-11-28 08:43:21.997</td>\n",
       "    </tr>\n",
       "    <tr>\n",
       "      <th>3</th>\n",
       "      <td>scanner2#e0de5cdf-31cf-49b6-accf-26d6ee2fa7df</td>\n",
       "      <td>onboarding</td>\n",
       "      <td>2022-11-28</td>\n",
       "      <td>cancelled_subscription</td>\n",
       "      <td>2022-11-28 08:44:30.462</td>\n",
       "    </tr>\n",
       "    <tr>\n",
       "      <th>4</th>\n",
       "      <td>scanner2#58666c56-107e-48bf-97be-e0db9a717f1d</td>\n",
       "      <td>onboarding</td>\n",
       "      <td>2022-11-16</td>\n",
       "      <td>took_trial</td>\n",
       "      <td>2022-11-16 12:27:45.275</td>\n",
       "    </tr>\n",
       "    <tr>\n",
       "      <th>...</th>\n",
       "      <td>...</td>\n",
       "      <td>...</td>\n",
       "      <td>...</td>\n",
       "      <td>...</td>\n",
       "      <td>...</td>\n",
       "    </tr>\n",
       "    <tr>\n",
       "      <th>172861</th>\n",
       "      <td>scanner2#d9072822-3b6a-4330-a9c6-3770b78d4637</td>\n",
       "      <td>onboarding</td>\n",
       "      <td>2022-11-22</td>\n",
       "      <td>took_trial</td>\n",
       "      <td>2022-11-22 00:53:16.801</td>\n",
       "    </tr>\n",
       "    <tr>\n",
       "      <th>172862</th>\n",
       "      <td>scanner2#007e9116-9352-481a-9c07-65d7434cfb5c</td>\n",
       "      <td>onboarding</td>\n",
       "      <td>2022-11-20</td>\n",
       "      <td>took_trial</td>\n",
       "      <td>2022-11-20 06:36:53.457</td>\n",
       "    </tr>\n",
       "    <tr>\n",
       "      <th>172863</th>\n",
       "      <td>scanner2#007e9116-9352-481a-9c07-65d7434cfb5c</td>\n",
       "      <td>onboarding</td>\n",
       "      <td>2022-11-20</td>\n",
       "      <td>cancelled_subscription</td>\n",
       "      <td>2022-11-20 06:38:27.889</td>\n",
       "    </tr>\n",
       "    <tr>\n",
       "      <th>172864</th>\n",
       "      <td>scanner2#e15c8e12-9374-4191-99e3-0a77ee144667</td>\n",
       "      <td>onboarding</td>\n",
       "      <td>2022-11-22</td>\n",
       "      <td>cancelled_subscription</td>\n",
       "      <td>2022-11-22 11:37:58.943</td>\n",
       "    </tr>\n",
       "    <tr>\n",
       "      <th>172865</th>\n",
       "      <td>scanner2#e15c8e12-9374-4191-99e3-0a77ee144667</td>\n",
       "      <td>onboarding</td>\n",
       "      <td>2022-11-22</td>\n",
       "      <td>took_trial</td>\n",
       "      <td>2022-11-22 12:34:36.416</td>\n",
       "    </tr>\n",
       "  </tbody>\n",
       "</table>\n",
       "<p>172866 rows × 5 columns</p>\n",
       "</div>"
      ]
     },
     "execution_count": 15,
     "metadata": {},
     "output_type": "execute_result"
    }
   ],
   "execution_count": 15
  },
  {
   "metadata": {
    "ExecuteTime": {
     "end_time": "2024-05-15T07:08:25.242861Z",
     "start_time": "2024-05-15T07:08:25.217312Z"
    }
   },
   "cell_type": "code",
   "source": "df_full2.user_id.nunique()",
   "id": "51290ef2bb61d1ab",
   "outputs": [
    {
     "data": {
      "text/plain": [
       "8298"
      ]
     },
     "execution_count": 16,
     "metadata": {},
     "output_type": "execute_result"
    }
   ],
   "execution_count": 16
  },
  {
   "metadata": {
    "ExecuteTime": {
     "end_time": "2024-05-15T07:08:26.109132Z",
     "start_time": "2024-05-15T07:08:26.051396Z"
    }
   },
   "cell_type": "code",
   "source": [
    "num_of_scan_paid = df_full2.groupby(['user_id', 'event_type_x']).size().unstack(fill_value=0).reset_index()\n",
    "sum_adjustment = num_of_scan_paid['adjustment'].sum()\n",
    "sum_onboarding = num_of_scan_paid['onboarding'].sum()\n",
    "sum_scan = num_of_scan_paid['scan'].sum()\n",
    "sum_adjustment, sum_onboarding, sum_scan"
   ],
   "id": "e162aa39d87ff1b3",
   "outputs": [
    {
     "data": {
      "text/plain": [
       "(22827, 35410, 114629)"
      ]
     },
     "execution_count": 17,
     "metadata": {},
     "output_type": "execute_result"
    }
   ],
   "execution_count": 17
  },
  {
   "metadata": {
    "ExecuteTime": {
     "end_time": "2024-05-15T07:08:26.926276Z",
     "start_time": "2024-05-15T07:08:26.789568Z"
    }
   },
   "cell_type": "code",
   "source": [
    "categories = ['adjustment', 'scan']\n",
    "sum_values = [sum_adjustment, sum_scan]\n",
    "\n",
    "\n",
    "percentage = sum_scan / (sum_adjustment + sum_scan) * 100\n",
    "print(f'Percentage: {round(percentage,2 )}%')\n",
    "\n",
    "# Побудова гістограми\n",
    "plt.bar(categories, sum_values, color=['blue', 'orange'])\n",
    "\n",
    "# Налаштування заголовка та міток осей\n",
    "plt.title('adjustment vs scan')\n",
    "plt.xlabel('Категорії')\n",
    "plt.ylabel('Кількість');"
   ],
   "id": "5e9271cd0f3ed72f",
   "outputs": [
    {
     "name": "stdout",
     "output_type": "stream",
     "text": [
      "Percentage: 83.39%\n"
     ]
    },
    {
     "data": {
      "text/plain": [
       "<Figure size 640x480 with 1 Axes>"
      ],
      "image/png": "[encoded data removed]"
     },
     "metadata": {},
     "output_type": "display_data"
    }
   ],
   "execution_count": 18
  },
  {
   "metadata": {},
   "cell_type": "markdown",
   "source": "Всі користувачі використовують сканування набагато частіше ніж редагування - 83.39%\n",
   "id": "3e272c2fa3391caf"
  },
  {
   "metadata": {},
   "cell_type": "markdown",
   "source": [
    "### Буду обраховувати ревеню, розділив на 4 датасети : \n",
    " ###### 1) Юзер платив та перестав та юзери що переставали платити але потім повертались\n",
    " ###### 2) Юзери які скасовували підписку після першої оплати і більше не повертались\n",
    " ###### 3) Юзери які не скасовували підписку і платять\n",
    " ###### 4) Юзери які використовували тільки trial версію, і зовсім не платили"
   ],
   "id": "6b4b9c045f9fd13"
  },
  {
   "metadata": {
    "ExecuteTime": {
     "end_time": "2024-05-15T07:08:29.259023Z",
     "start_time": "2024-05-15T07:08:29.203794Z"
    }
   },
   "cell_type": "code",
   "source": [
    "max_date = df_pay['event_time'].max()\n",
    "df4 = df_pay.groupby(['user_id', 'event_type'])['event_time'].agg(['min', 'max']).reset_index()\n",
    "# Перетворення типу даних на date\n",
    "df4['min'] = pd.to_datetime(df4['min'])\n",
    "df4['max'] = pd.to_datetime(df4['max'])\n",
    "df4.columns = ['user_id', 'event_type', 'min_dates', 'max_dates']\n",
    "def func(x):\n",
    "    if x == 'payment':\n",
    "        return 1\n",
    "    elif x == 'cancelled_subscription':\n",
    "        return 2\n",
    "    else :\n",
    "        return 0\n",
    "df4['RP'] = df4['event_type'].apply(func)\n",
    "df4"
   ],
   "id": "11eb1e3af2c45c21",
   "outputs": [
    {
     "data": {
      "text/plain": [
       "                                             user_id              event_type  \\\n",
       "0      scanner2#00076efd-13ee-40bb-9338-92dd6307606f  cancelled_subscription   \n",
       "1      scanner2#00076efd-13ee-40bb-9338-92dd6307606f                 payment   \n",
       "2      scanner2#00076efd-13ee-40bb-9338-92dd6307606f              took_trial   \n",
       "3      scanner2#00167300-479e-4372-9c26-8031f0db0201  cancelled_subscription   \n",
       "4      scanner2#00167300-479e-4372-9c26-8031f0db0201              took_trial   \n",
       "...                                              ...                     ...   \n",
       "17518  scanner2#ffe89bec-5a3f-4d7b-8440-02ec4ac32f94                 payment   \n",
       "17519  scanner2#ffe89bec-5a3f-4d7b-8440-02ec4ac32f94              took_trial   \n",
       "17520  scanner2#fffb227b-d7b4-4b31-b6e0-bd30893dab47  cancelled_subscription   \n",
       "17521  scanner2#fffb227b-d7b4-4b31-b6e0-bd30893dab47              took_trial   \n",
       "17522  scanner2#fffda6cb-41a9-4b9c-981b-337d4083d185              took_trial   \n",
       "\n",
       "                    min_dates               max_dates  RP  \n",
       "0     2023-03-30 12:43:47.581 2023-03-30 12:43:47.581   2  \n",
       "1     2022-11-08 10:45:03.906 2023-03-28 09:43:43.621   1  \n",
       "2     2022-11-01 17:42:26.801 2022-11-01 17:42:26.801   0  \n",
       "3     2022-11-23 12:47:46.521 2022-11-23 12:47:46.521   2  \n",
       "4     2022-11-23 12:44:22.060 2022-11-23 12:44:22.060   0  \n",
       "...                       ...                     ...  ..  \n",
       "17518 2022-12-12 11:43:19.488 2022-12-12 11:43:19.488   1  \n",
       "17519 2022-11-30 16:26:08.583 2022-11-30 16:26:08.583   0  \n",
       "17520 2022-11-19 01:28:38.065 2022-11-19 01:28:38.065   2  \n",
       "17521 2022-11-19 01:21:46.142 2022-11-19 01:21:46.142   0  \n",
       "17522 2022-11-25 00:43:31.915 2022-11-25 00:43:31.915   0  \n",
       "\n",
       "[17523 rows x 5 columns]"
      ],
      "text/html": [
       "<div>\n",
       "<style scoped>\n",
       "    .dataframe tbody tr th:only-of-type {\n",
       "        vertical-align: middle;\n",
       "    }\n",
       "\n",
       "    .dataframe tbody tr th {\n",
       "        vertical-align: top;\n",
       "    }\n",
       "\n",
       "    .dataframe thead th {\n",
       "        text-align: right;\n",
       "    }\n",
       "</style>\n",
       "<table border=\"1\" class=\"dataframe\">\n",
       "  <thead>\n",
       "    <tr style=\"text-align: right;\">\n",
       "      <th></th>\n",
       "      <th>user_id</th>\n",
       "      <th>event_type</th>\n",
       "      <th>min_dates</th>\n",
       "      <th>max_dates</th>\n",
       "      <th>RP</th>\n",
       "    </tr>\n",
       "  </thead>\n",
       "  <tbody>\n",
       "    <tr>\n",
       "      <th>0</th>\n",
       "      <td>scanner2#00076efd-13ee-40bb-9338-92dd6307606f</td>\n",
       "      <td>cancelled_subscription</td>\n",
       "      <td>2023-03-30 12:43:47.581</td>\n",
       "      <td>2023-03-30 12:43:47.581</td>\n",
       "      <td>2</td>\n",
       "    </tr>\n",
       "    <tr>\n",
       "      <th>1</th>\n",
       "      <td>scanner2#00076efd-13ee-40bb-9338-92dd6307606f</td>\n",
       "      <td>payment</td>\n",
       "      <td>2022-11-08 10:45:03.906</td>\n",
       "      <td>2023-03-28 09:43:43.621</td>\n",
       "      <td>1</td>\n",
       "    </tr>\n",
       "    <tr>\n",
       "      <th>2</th>\n",
       "      <td>scanner2#00076efd-13ee-40bb-9338-92dd6307606f</td>\n",
       "      <td>took_trial</td>\n",
       "      <td>2022-11-01 17:42:26.801</td>\n",
       "      <td>2022-11-01 17:42:26.801</td>\n",
       "      <td>0</td>\n",
       "    </tr>\n",
       "    <tr>\n",
       "      <th>3</th>\n",
       "      <td>scanner2#00167300-479e-4372-9c26-8031f0db0201</td>\n",
       "      <td>cancelled_subscription</td>\n",
       "      <td>2022-11-23 12:47:46.521</td>\n",
       "      <td>2022-11-23 12:47:46.521</td>\n",
       "      <td>2</td>\n",
       "    </tr>\n",
       "    <tr>\n",
       "      <th>4</th>\n",
       "      <td>scanner2#00167300-479e-4372-9c26-8031f0db0201</td>\n",
       "      <td>took_trial</td>\n",
       "      <td>2022-11-23 12:44:22.060</td>\n",
       "      <td>2022-11-23 12:44:22.060</td>\n",
       "      <td>0</td>\n",
       "    </tr>\n",
       "    <tr>\n",
       "      <th>...</th>\n",
       "      <td>...</td>\n",
       "      <td>...</td>\n",
       "      <td>...</td>\n",
       "      <td>...</td>\n",
       "      <td>...</td>\n",
       "    </tr>\n",
       "    <tr>\n",
       "      <th>17518</th>\n",
       "      <td>scanner2#ffe89bec-5a3f-4d7b-8440-02ec4ac32f94</td>\n",
       "      <td>payment</td>\n",
       "      <td>2022-12-12 11:43:19.488</td>\n",
       "      <td>2022-12-12 11:43:19.488</td>\n",
       "      <td>1</td>\n",
       "    </tr>\n",
       "    <tr>\n",
       "      <th>17519</th>\n",
       "      <td>scanner2#ffe89bec-5a3f-4d7b-8440-02ec4ac32f94</td>\n",
       "      <td>took_trial</td>\n",
       "      <td>2022-11-30 16:26:08.583</td>\n",
       "      <td>2022-11-30 16:26:08.583</td>\n",
       "      <td>0</td>\n",
       "    </tr>\n",
       "    <tr>\n",
       "      <th>17520</th>\n",
       "      <td>scanner2#fffb227b-d7b4-4b31-b6e0-bd30893dab47</td>\n",
       "      <td>cancelled_subscription</td>\n",
       "      <td>2022-11-19 01:28:38.065</td>\n",
       "      <td>2022-11-19 01:28:38.065</td>\n",
       "      <td>2</td>\n",
       "    </tr>\n",
       "    <tr>\n",
       "      <th>17521</th>\n",
       "      <td>scanner2#fffb227b-d7b4-4b31-b6e0-bd30893dab47</td>\n",
       "      <td>took_trial</td>\n",
       "      <td>2022-11-19 01:21:46.142</td>\n",
       "      <td>2022-11-19 01:21:46.142</td>\n",
       "      <td>0</td>\n",
       "    </tr>\n",
       "    <tr>\n",
       "      <th>17522</th>\n",
       "      <td>scanner2#fffda6cb-41a9-4b9c-981b-337d4083d185</td>\n",
       "      <td>took_trial</td>\n",
       "      <td>2022-11-25 00:43:31.915</td>\n",
       "      <td>2022-11-25 00:43:31.915</td>\n",
       "      <td>0</td>\n",
       "    </tr>\n",
       "  </tbody>\n",
       "</table>\n",
       "<p>17523 rows × 5 columns</p>\n",
       "</div>"
      ]
     },
     "execution_count": 19,
     "metadata": {},
     "output_type": "execute_result"
    }
   ],
   "execution_count": 19
  },
  {
   "metadata": {},
   "cell_type": "markdown",
   "source": "Тут дістаємо потрібні дати, для took_trial, payment, cancelled_subscription",
   "id": "8d260e460011f18d"
  },
  {
   "metadata": {
    "ExecuteTime": {
     "end_time": "2024-05-15T07:24:25.819855Z",
     "start_time": "2024-05-15T07:24:25.805692Z"
    }
   },
   "cell_type": "code",
   "source": [
    "# Дата коли юзер взяв свій перший тріал\n",
    "trial_dates = df4[(df4['event_type'] == 'took_trial')].groupby('user_id')['min_dates'].min()\n",
    "trial_dates = trial_dates.reset_index()\n",
    "trial_dates.columns = ['user_id', 'trial_min_dates']\n",
    "trial_dates;"
   ],
   "id": "43ef27dccc761287",
   "outputs": [],
   "execution_count": 50
  },
  {
   "metadata": {
    "ExecuteTime": {
     "end_time": "2024-05-15T07:24:41.980167Z",
     "start_time": "2024-05-15T07:24:41.968938Z"
    }
   },
   "cell_type": "code",
   "source": [
    "# Дата першої  і останньої оплат \n",
    "payment_dates = df4[(df4['event_type'] == 'payment')].groupby('user_id')[['min_dates', 'max_dates']].agg({'min_dates' : 'min',\n",
    "                                                                                                          'max_dates' : 'max'})\n",
    "payment_dates.columns = ['pay_min_dates', 'pay_max_dates']\n",
    "payment_dates.reset_index();\n"
   ],
   "id": "94e06328a7ac3ea9",
   "outputs": [],
   "execution_count": 52
  },
  {
   "metadata": {
    "ExecuteTime": {
     "end_time": "2024-05-15T07:08:32.364429Z",
     "start_time": "2024-05-15T07:08:32.351283Z"
    }
   },
   "cell_type": "code",
   "source": [
    "# Дата першого останнього скасування підписки\n",
    "cancelled_dates = df4[(df4['event_type'] == 'cancelled_subscription')].groupby('user_id')[['min_dates', 'max_dates']].agg({'min_dates': 'min', 'max_dates': 'max'})\n",
    "#cancelled_dates[cancelled_dates['max_dates'] > cancelled_dates['min_dates']]\n",
    "cancelled_dates = cancelled_dates.reset_index()\n",
    "cancelled_dates.columns = ['user_id', 'cancel_min_dates', 'cancel_max_dates']\n",
    "cancelled_dates;"
   ],
   "id": "3bbfeb4bb4c63b00",
   "outputs": [],
   "execution_count": 22
  },
  {
   "metadata": {
    "ExecuteTime": {
     "end_time": "2024-05-15T07:24:58.862289Z",
     "start_time": "2024-05-15T07:24:58.840676Z"
    }
   },
   "cell_type": "code",
   "source": [
    "# Кількість оплат, скасування та тріалів для кожного з користувачів\n",
    "event_counts_pay = df_pay.groupby(['user_id', 'event_type']).size().unstack(fill_value=0)\n",
    "event_counts_pay = event_counts_pay.reset_index()\n",
    "event_counts_pay;"
   ],
   "id": "30d8bdace3e93f7f",
   "outputs": [],
   "execution_count": 54
  },
  {
   "metadata": {
    "ExecuteTime": {
     "end_time": "2024-05-15T07:08:35.050637Z",
     "start_time": "2024-05-15T07:08:35.043975Z"
    }
   },
   "cell_type": "code",
   "source": [
    "trial_period = pd.Timedelta(days=1) # брав шо тріал дійсний лише 1 день, за потреби можна змінити \n",
    "# максимальна дата коли було зроблено якусь оплату, відносно неї будемо рахувати всі показники\n",
    "max_date = df_pay['event_time'].max()\n",
    "max_date = pd.to_datetime(max_date)"
   ],
   "id": "7d04a55440cda949",
   "outputs": [],
   "execution_count": 24
  },
  {
   "metadata": {},
   "cell_type": "markdown",
   "source": "Користувачі які платили і потім перестали та юзери які ще купляли підписку після скасування.",
   "id": "60f000f5e841f69e"
  },
  {
   "metadata": {
    "ExecuteTime": {
     "end_time": "2024-05-15T07:08:36.307082Z",
     "start_time": "2024-05-15T07:08:36.282015Z"
    }
   },
   "cell_type": "code",
   "source": [
    "df_cancel_rev = df4.drop(['event_type'], axis = 1)\n",
    "df_cancel_rev = df_cancel_rev.groupby(['user_id'])['RP'].sum()\n",
    "df_cancel_rev = df_cancel_rev.reset_index() \n",
    "df_cancel_rev = df_cancel_rev.merge(cancelled_dates, on = 'user_id', how = 'inner')\n",
    "df_cancel_rev = df_cancel_rev[(df_cancel_rev['RP'] == 3)] #\n",
    "df_cancel_rev = df_cancel_rev.merge(payment_dates, on = 'user_id', how = 'inner')\n",
    "df_cancel_rev = df_cancel_rev.merge(event_counts_pay, on = 'user_id', how = 'inner')\n",
    "df_cancel_rev;"
   ],
   "id": "3e30521b28c9c36f",
   "outputs": [],
   "execution_count": 25
  },
  {
   "metadata": {
    "ExecuteTime": {
     "end_time": "2024-05-15T07:08:37.074858Z",
     "start_time": "2024-05-15T07:08:36.960979Z"
    }
   },
   "cell_type": "code",
   "source": [
    "df_cancel_rev['cancel_max_dates'] = pd.to_datetime(df_cancel_rev['cancel_max_dates'])\n",
    "df_cancel_rev['pay_max_dates'] = pd.to_datetime(df_cancel_rev['pay_max_dates'])\n",
    "df_cancel_rev['revenue'] = 7 * df_cancel_rev['payment']\n",
    "\n",
    "df_cancel_rev['revenue'] = df_cancel_rev.apply(lambda row: 7 * row['payment'] if row['cancel_max_dates'] > row['pay_max_dates'] else 7 * row['payment'] + math.ceil((max_date-row['pay_max_dates']).days/7)*7, axis=1)\n",
    "\n",
    "# ------- Порахуємо ревеню для цієї категорії юзерів\n",
    "rev_cancel = df_cancel_rev['revenue'].sum()\n",
    "# ----- revenue per user цієї категорії юзерів\n",
    "rvp_cancel= df_cancel_rev['revenue'].mean()\n",
    "count_cancel = df_cancel_rev['user_id'].nunique()\n",
    "rev_cancel, rvp_cancel, count_cancel\n"
   ],
   "id": "73fcfb9f1857c8ba",
   "outputs": [
    {
     "data": {
      "text/plain": [
       "(64008, 31.177788602045787, 2053)"
      ]
     },
     "execution_count": 26,
     "metadata": {},
     "output_type": "execute_result"
    }
   ],
   "execution_count": 26
  },
  {
   "metadata": {},
   "cell_type": "markdown",
   "source": "Юзери які скасовували підписку після першої оплати і більше не повертались",
   "id": "983c716531afb810"
  },
  {
   "metadata": {
    "ExecuteTime": {
     "end_time": "2024-05-15T07:08:38.764895Z",
     "start_time": "2024-05-15T07:08:38.722554Z"
    }
   },
   "cell_type": "code",
   "source": [
    "# юзери які скасували підписку один раз, і не платили ще після скасування\n",
    "df_cancel_rev_tr = df4.drop(['event_type'], axis = 1)\n",
    "df_cancel_rev_tr = df_cancel_rev_tr.groupby(['user_id'])['RP'].sum()\n",
    "df_cancel_rev_tr = df_cancel_rev_tr.reset_index()\n",
    "df_cancel_rev_tr = df_cancel_rev_tr[(df_cancel_rev_tr['RP'] == 2)] # \n",
    "df_cancel_rev_tr = df_cancel_rev_tr.merge(cancelled_dates, on = 'user_id', how = 'inner')\n",
    "df_cancel_rev_tr = df_cancel_rev_tr.merge(trial_dates, on = 'user_id', how = 'inner')\n",
    "\n",
    "\n",
    "df_cancel_rev_tr['cancel_min_dates'] = pd.to_datetime(df_cancel_rev_tr['cancel_min_dates'])\n",
    "df_cancel_rev_tr['trial_min_dates'] = pd.to_datetime(df_cancel_rev_tr['trial_min_dates'])\n",
    "\n",
    "# Розрахунок різниці між датами та конвертація у рядок\n",
    "df_cancel_rev_tr['lifetime_days'] = (\n",
    "        df_cancel_rev_tr['cancel_min_dates'] - \n",
    "        (df_cancel_rev_tr['trial_min_dates'] + trial_period)\n",
    ").dt.days\n",
    "\n",
    "df_cancel_rev_tr['revenue'] = df_cancel_rev_tr['lifetime_days'].apply(lambda days: math.ceil(days/7)*7 if days > 0 else 0)\n",
    "\n",
    "# ------- Порахуємо ревеню для цієї категорії юзерів\n",
    "rev_trial_cancel = df_cancel_rev_tr['revenue'].sum()\n",
    "# ----- revenue per user цієї категорії юзерів\n",
    "rvp_trial_cancel = df_cancel_rev_tr['revenue'].mean()\n",
    "count_trial_cancel = df_cancel_rev_tr['user_id'].nunique()\n",
    "rvp_trial_cancel, rev_trial_cancel, count_trial_cancel\n"
   ],
   "id": "6e74f96ab3d92bba",
   "outputs": [
    {
     "data": {
      "text/plain": [
       "(2.203895463510848, 8939, 4056)"
      ]
     },
     "execution_count": 27,
     "metadata": {},
     "output_type": "execute_result"
    }
   ],
   "execution_count": 27
  },
  {
   "metadata": {},
   "cell_type": "markdown",
   "source": "Юзери які платять та не скасовували підписку",
   "id": "d05e467be960feab"
  },
  {
   "metadata": {
    "ExecuteTime": {
     "end_time": "2024-05-15T07:08:40.243126Z",
     "start_time": "2024-05-15T07:08:40.213795Z"
    }
   },
   "cell_type": "code",
   "source": [
    "# юзери які не скасовували підписку\n",
    "df_pay_rev = df4.drop(['event_type'], axis = 1)\n",
    "df_pay_rev = df_pay_rev.groupby(['user_id'])['RP'].sum()\n",
    "df_pay_rev = df_pay_rev.reset_index()\n",
    "df_pay_rev = df_pay_rev.merge(payment_dates, on = 'user_id', how = 'inner')\n",
    "\n",
    "df_pay_rev = df_pay_rev[df_pay_rev['RP'] == 1] # беремо лише тих юзерів які не скасовували підписку\n",
    "\n",
    "df_pay_rev['pay_min_dates'] = pd.to_datetime(df_pay_rev['pay_min_dates'])\n",
    "max_date = pd.to_datetime(max_date)\n",
    "df_pay_rev['lifetime_days'] = (max_date - df_pay_rev['pay_min_dates']).dt.days\n",
    "df_pay_rev['revenue'] = df_pay_rev['lifetime_days'].apply(lambda days: math.ceil(days/7)*7)\n",
    "df_pay_rev.reset_index(drop=True)\n",
    "\n",
    "\n",
    "# ------- Порахуємо ревеню для цієї категорії юзерів\n",
    "rev_pay = df_pay_rev['revenue'].sum()\n",
    "# ----- revenue per user цієї категорії юзерів\n",
    "rvp_pay = df_pay_rev['revenue'].mean()\n",
    "count_pay = df_pay_rev['user_id'].nunique()\n",
    "rev_pay, rvp_pay, count_pay"
   ],
   "id": "3d30f417556133c1",
   "outputs": [
    {
     "data": {
      "text/plain": [
       "(148015, 134.19310970081597, 1103)"
      ]
     },
     "execution_count": 28,
     "metadata": {},
     "output_type": "execute_result"
    }
   ],
   "execution_count": 28
  },
  {
   "metadata": {},
   "cell_type": "markdown",
   "source": "Юзери які використовували тільки trial версію, і зовсім не платили",
   "id": "6fd2ee5fc182a7dc"
  },
  {
   "metadata": {
    "ExecuteTime": {
     "end_time": "2024-05-15T07:08:41.456207Z",
     "start_time": "2024-05-15T07:08:41.436792Z"
    }
   },
   "cell_type": "code",
   "source": [
    "df_merged3 = pd.concat([df_cancel_rev, df_cancel_rev_tr, df_pay_rev])\n",
    "not_only_trial = df_merged3['user_id'].unique()\n",
    "df_trial_only = df_pay[~df_pay['user_id'].isin(not_only_trial)]\n",
    "count_trial_only = df_trial_only.user_id.nunique()\n",
    "count_trial_only"
   ],
   "id": "efeb93faf12fc94",
   "outputs": [
    {
     "data": {
      "text/plain": [
       "1086"
      ]
     },
     "execution_count": 29,
     "metadata": {},
     "output_type": "execute_result"
    }
   ],
   "execution_count": 29
  },
  {
   "metadata": {},
   "cell_type": "markdown",
   "source": "## Metrics",
   "id": "1b10d65a8d3c3dab"
  },
  {
   "metadata": {
    "ExecuteTime": {
     "end_time": "2024-05-15T07:08:42.432956Z",
     "start_time": "2024-05-15T07:08:42.418421Z"
    }
   },
   "cell_type": "code",
   "source": [
    "# Створимо датасет який показуватиме показники для кожної з категорій\n",
    "data = {\n",
    "    'type_users': ['pay', 'cancelled_paid', 'cancelled_trial', 'trial_users'],\n",
    "    'revenue': [rev_pay, rev_cancel, rev_trial_cancel, 0],\n",
    "    'ARPPU': [rvp_pay, rvp_cancel, rvp_trial_cancel, 0],\n",
    "    'count': [count_pay,  count_cancel, count_trial_cancel, count_trial_only]\n",
    "}\n",
    "\n",
    "# Створення датафрейму зі словника\n",
    "df = pd.DataFrame(data)\n",
    "df"
   ],
   "id": "af8407009931849d",
   "outputs": [
    {
     "data": {
      "text/plain": [
       "        type_users  revenue       ARPPU  count\n",
       "0              pay   148015  134.193110   1103\n",
       "1   cancelled_paid    64008   31.177789   2053\n",
       "2  cancelled_trial     8939    2.203895   4056\n",
       "3      trial_users        0    0.000000   1086"
      ],
      "text/html": [
       "<div>\n",
       "<style scoped>\n",
       "    .dataframe tbody tr th:only-of-type {\n",
       "        vertical-align: middle;\n",
       "    }\n",
       "\n",
       "    .dataframe tbody tr th {\n",
       "        vertical-align: top;\n",
       "    }\n",
       "\n",
       "    .dataframe thead th {\n",
       "        text-align: right;\n",
       "    }\n",
       "</style>\n",
       "<table border=\"1\" class=\"dataframe\">\n",
       "  <thead>\n",
       "    <tr style=\"text-align: right;\">\n",
       "      <th></th>\n",
       "      <th>type_users</th>\n",
       "      <th>revenue</th>\n",
       "      <th>ARPPU</th>\n",
       "      <th>count</th>\n",
       "    </tr>\n",
       "  </thead>\n",
       "  <tbody>\n",
       "    <tr>\n",
       "      <th>0</th>\n",
       "      <td>pay</td>\n",
       "      <td>148015</td>\n",
       "      <td>134.193110</td>\n",
       "      <td>1103</td>\n",
       "    </tr>\n",
       "    <tr>\n",
       "      <th>1</th>\n",
       "      <td>cancelled_paid</td>\n",
       "      <td>64008</td>\n",
       "      <td>31.177789</td>\n",
       "      <td>2053</td>\n",
       "    </tr>\n",
       "    <tr>\n",
       "      <th>2</th>\n",
       "      <td>cancelled_trial</td>\n",
       "      <td>8939</td>\n",
       "      <td>2.203895</td>\n",
       "      <td>4056</td>\n",
       "    </tr>\n",
       "    <tr>\n",
       "      <th>3</th>\n",
       "      <td>trial_users</td>\n",
       "      <td>0</td>\n",
       "      <td>0.000000</td>\n",
       "      <td>1086</td>\n",
       "    </tr>\n",
       "  </tbody>\n",
       "</table>\n",
       "</div>"
      ]
     },
     "execution_count": 30,
     "metadata": {},
     "output_type": "execute_result"
    }
   ],
   "execution_count": 30
  },
  {
   "metadata": {
    "ExecuteTime": {
     "end_time": "2024-05-15T07:08:43.512105Z",
     "start_time": "2024-05-15T07:08:43.093272Z"
    }
   },
   "cell_type": "code",
   "source": [
    "# Графік для revenue\n",
    "plt.figure(figsize=(15,5))\n",
    "plt.subplot(1, 3, 1)\n",
    "plt.bar(df['type_users'], df['revenue'], color='blue')\n",
    "plt.title('Revenue')\n",
    "plt.ylabel('Revenue')\n",
    "\n",
    "# Графік для ARPPU\n",
    "plt.subplot(1, 3, 2)\n",
    "plt.bar(df['type_users'], df['ARPPU'], color='orange')\n",
    "plt.title('ARPPU')\n",
    "plt.ylabel('ARPPU')\n",
    "\n",
    "# Графік для count\n",
    "plt.subplot(1, 3, 3)\n",
    "plt.bar(df['type_users'], df['count'], color='green')\n",
    "plt.title('Count')\n",
    "plt.ylabel('Count')\n",
    "\n",
    "# Показ графіків\n",
    "plt.tight_layout()\n",
    "plt.show()"
   ],
   "id": "2e422dba20eac19f",
   "outputs": [
    {
     "data": {
      "text/plain": [
       "<Figure size 1500x500 with 3 Axes>"
      ],
      "image/png": "[encoded data removed]"
     },
     "metadata": {},
     "output_type": "display_data"
    }
   ],
   "execution_count": 31
  },
  {
   "metadata": {},
   "cell_type": "markdown",
   "source": [
    "Бачимо, що найбільший прибуток приносять юзери які платили і не скасовували підписку.\n",
    "Проте найбільша кількість користувачів які скасовували тріал,а прибуток від них найменший відносно інших категорій (trial_users - не враховуємо)"
   ],
   "id": "867e9755640826b8"
  },
  {
   "metadata": {},
   "cell_type": "markdown",
   "source": "Обчислимо метрики для Paid User (all)",
   "id": "8f4bd72cde461b02"
  },
  {
   "metadata": {
    "ExecuteTime": {
     "end_time": "2024-05-15T07:08:44.889774Z",
     "start_time": "2024-05-15T07:08:44.873081Z"
    }
   },
   "cell_type": "code",
   "source": [
    "#Датасет в якому будуть всі юзери які робили хоча б одну оплату\n",
    "\n",
    "df_pay_trimmed = df_pay_rev[['user_id', 'RP', 'revenue']]\n",
    "dt_cancel_rev_trimmed = df_cancel_rev_tr[['user_id', 'RP', 'revenue']]\n",
    "df_cancel_rev_trimmed = df_cancel_rev[['user_id', 'RP', 'revenue']]\n",
    "\n",
    "all_paid_users = pd.concat([df_pay_trimmed, dt_cancel_rev_trimmed, df_cancel_rev_trimmed], ignore_index=True)\n",
    "\n",
    "def replace_RP(x):\n",
    "    if x == 1 :\n",
    "        return 'pay_user'\n",
    "    elif x == 2 :\n",
    "        return 'cancel_trial_user'\n",
    "    else :\n",
    "        return 'cancelled_user'\n",
    "\n",
    "\n",
    "all_paid_users['RP'] = all_paid_users['RP'].apply(replace_RP)\n",
    "all_paid_users"
   ],
   "id": "5471c170c983fa2",
   "outputs": [
    {
     "data": {
      "text/plain": [
       "                                            user_id              RP  revenue\n",
       "0     scanner2#003d66f7-e1bf-447d-bf8d-2909b578fe18        pay_user      154\n",
       "1     scanner2#008feba6-62a1-4bb1-a4da-022e621267d4        pay_user      154\n",
       "2     scanner2#01282a1c-5de9-46c1-a54b-895925f739c9        pay_user      119\n",
       "3     scanner2#016ed9fc-1edb-4bfb-844f-9a3d322371ea        pay_user      147\n",
       "4     scanner2#019334a5-9e8b-4c9d-85d0-dead855c4323        pay_user      126\n",
       "...                                             ...             ...      ...\n",
       "7207  scanner2#ff6dd695-1459-4be5-ada5-793955862980  cancelled_user        7\n",
       "7208  scanner2#ff7bebd5-22d0-4768-b198-b33a1948a6a9  cancelled_user       35\n",
       "7209  scanner2#ff9967bb-2902-4640-ba5a-8c791b4dd3a5  cancelled_user       35\n",
       "7210  scanner2#ffbcfeb5-7645-4f4f-818f-2516234c424b  cancelled_user       35\n",
       "7211  scanner2#ffc65df4-8f41-4228-96df-4a26d64a242b  cancelled_user       14\n",
       "\n",
       "[7212 rows x 3 columns]"
      ],
      "text/html": [
       "<div>\n",
       "<style scoped>\n",
       "    .dataframe tbody tr th:only-of-type {\n",
       "        vertical-align: middle;\n",
       "    }\n",
       "\n",
       "    .dataframe tbody tr th {\n",
       "        vertical-align: top;\n",
       "    }\n",
       "\n",
       "    .dataframe thead th {\n",
       "        text-align: right;\n",
       "    }\n",
       "</style>\n",
       "<table border=\"1\" class=\"dataframe\">\n",
       "  <thead>\n",
       "    <tr style=\"text-align: right;\">\n",
       "      <th></th>\n",
       "      <th>user_id</th>\n",
       "      <th>RP</th>\n",
       "      <th>revenue</th>\n",
       "    </tr>\n",
       "  </thead>\n",
       "  <tbody>\n",
       "    <tr>\n",
       "      <th>0</th>\n",
       "      <td>scanner2#003d66f7-e1bf-447d-bf8d-2909b578fe18</td>\n",
       "      <td>pay_user</td>\n",
       "      <td>154</td>\n",
       "    </tr>\n",
       "    <tr>\n",
       "      <th>1</th>\n",
       "      <td>scanner2#008feba6-62a1-4bb1-a4da-022e621267d4</td>\n",
       "      <td>pay_user</td>\n",
       "      <td>154</td>\n",
       "    </tr>\n",
       "    <tr>\n",
       "      <th>2</th>\n",
       "      <td>scanner2#01282a1c-5de9-46c1-a54b-895925f739c9</td>\n",
       "      <td>pay_user</td>\n",
       "      <td>119</td>\n",
       "    </tr>\n",
       "    <tr>\n",
       "      <th>3</th>\n",
       "      <td>scanner2#016ed9fc-1edb-4bfb-844f-9a3d322371ea</td>\n",
       "      <td>pay_user</td>\n",
       "      <td>147</td>\n",
       "    </tr>\n",
       "    <tr>\n",
       "      <th>4</th>\n",
       "      <td>scanner2#019334a5-9e8b-4c9d-85d0-dead855c4323</td>\n",
       "      <td>pay_user</td>\n",
       "      <td>126</td>\n",
       "    </tr>\n",
       "    <tr>\n",
       "      <th>...</th>\n",
       "      <td>...</td>\n",
       "      <td>...</td>\n",
       "      <td>...</td>\n",
       "    </tr>\n",
       "    <tr>\n",
       "      <th>7207</th>\n",
       "      <td>scanner2#ff6dd695-1459-4be5-ada5-793955862980</td>\n",
       "      <td>cancelled_user</td>\n",
       "      <td>7</td>\n",
       "    </tr>\n",
       "    <tr>\n",
       "      <th>7208</th>\n",
       "      <td>scanner2#ff7bebd5-22d0-4768-b198-b33a1948a6a9</td>\n",
       "      <td>cancelled_user</td>\n",
       "      <td>35</td>\n",
       "    </tr>\n",
       "    <tr>\n",
       "      <th>7209</th>\n",
       "      <td>scanner2#ff9967bb-2902-4640-ba5a-8c791b4dd3a5</td>\n",
       "      <td>cancelled_user</td>\n",
       "      <td>35</td>\n",
       "    </tr>\n",
       "    <tr>\n",
       "      <th>7210</th>\n",
       "      <td>scanner2#ffbcfeb5-7645-4f4f-818f-2516234c424b</td>\n",
       "      <td>cancelled_user</td>\n",
       "      <td>35</td>\n",
       "    </tr>\n",
       "    <tr>\n",
       "      <th>7211</th>\n",
       "      <td>scanner2#ffc65df4-8f41-4228-96df-4a26d64a242b</td>\n",
       "      <td>cancelled_user</td>\n",
       "      <td>14</td>\n",
       "    </tr>\n",
       "  </tbody>\n",
       "</table>\n",
       "<p>7212 rows × 3 columns</p>\n",
       "</div>"
      ]
     },
     "execution_count": 32,
     "metadata": {},
     "output_type": "execute_result"
    }
   ],
   "execution_count": 32
  },
  {
   "metadata": {
    "ExecuteTime": {
     "end_time": "2024-05-15T07:08:45.683715Z",
     "start_time": "2024-05-15T07:08:45.675715Z"
    }
   },
   "cell_type": "code",
   "source": [
    "total_paid_users = all_paid_users['user_id'].nunique()\n",
    "total_paid_users"
   ],
   "id": "ebc67b00e9871e7d",
   "outputs": [
    {
     "data": {
      "text/plain": [
       "7212"
      ]
     },
     "execution_count": 33,
     "metadata": {},
     "output_type": "execute_result"
    }
   ],
   "execution_count": 33
  },
  {
   "metadata": {
    "ExecuteTime": {
     "end_time": "2024-05-15T07:08:46.149382Z",
     "start_time": "2024-05-15T07:08:46.144356Z"
    }
   },
   "cell_type": "code",
   "source": [
    "total_Revenue = all_paid_users['revenue'].sum()\n",
    "total_Revenue"
   ],
   "id": "a29c988e0d16959b",
   "outputs": [
    {
     "data": {
      "text/plain": [
       "220962"
      ]
     },
     "execution_count": 34,
     "metadata": {},
     "output_type": "execute_result"
    }
   ],
   "execution_count": 34
  },
  {
   "metadata": {
    "ExecuteTime": {
     "end_time": "2024-05-15T07:08:46.694894Z",
     "start_time": "2024-05-15T07:08:46.689701Z"
    }
   },
   "cell_type": "code",
   "source": [
    "total_ARRPU = all_paid_users['revenue'].mean()\n",
    "total_ARRPU"
   ],
   "id": "e5024f7eb91075cf",
   "outputs": [
    {
     "data": {
      "text/plain": [
       "30.63810316139767"
      ]
     },
     "execution_count": 35,
     "metadata": {},
     "output_type": "execute_result"
    }
   ],
   "execution_count": 35
  },
  {
   "metadata": {
    "ExecuteTime": {
     "end_time": "2024-05-15T07:08:47.110486Z",
     "start_time": "2024-05-15T07:08:47.054006Z"
    }
   },
   "cell_type": "code",
   "source": [
    "ARPU = total_Revenue / df_app['user_id'].nunique()\n",
    "ARPU"
   ],
   "id": "a4fa4192c12b8fb0",
   "outputs": [
    {
     "data": {
      "text/plain": [
       "1.920123048046091"
      ]
     },
     "execution_count": 36,
     "metadata": {},
     "output_type": "execute_result"
    }
   ],
   "execution_count": 36
  },
  {
   "metadata": {
    "ExecuteTime": {
     "end_time": "2024-05-15T07:08:47.786532Z",
     "start_time": "2024-05-15T07:08:47.732543Z"
    }
   },
   "cell_type": "code",
   "source": [
    "Conversion_Rate = total_paid_users / df_app['user_id'].nunique()*100\n",
    "print(f'Conversion_Rate: {round(Conversion_Rate,2 )}%')"
   ],
   "id": "d3d723ac0ddf7d35",
   "outputs": [
    {
     "name": "stdout",
     "output_type": "stream",
     "text": [
      "Conversion_Rate: 6.27%\n"
     ]
    }
   ],
   "execution_count": 37
  },
  {
   "metadata": {
    "ExecuteTime": {
     "end_time": "2024-05-15T07:08:48.147480Z",
     "start_time": "2024-05-15T07:08:48.095198Z"
    }
   },
   "cell_type": "code",
   "source": [
    "# Датасет з діями які paid_users\n",
    "df_app_paid_users = df_app[df_app['user_id'].isin(all_paid_users['user_id'].unique())]\n",
    "df_app_paid_users = df_app_paid_users.reset_index(drop = True)\n",
    "df_app_paid_users = df_app_paid_users[df_app_paid_users['event_type'].isin(['scan', 'adjustment'])].reset_index(drop = True)\n",
    "df_app_paid_users['event_time'] = pd.to_datetime(df_app_paid_users['event_time']).dt.date\n",
    "# кількість днів протягом якої юзер користувався додатком, (лише для paid users)\n",
    "df_count_days = df_app_paid_users.groupby('event_time')['user_id'].nunique().reset_index()\n",
    "df_count_days"
   ],
   "id": "442882b865b77cce",
   "outputs": [
    {
     "data": {
      "text/plain": [
       "     event_time  user_id\n",
       "0    2022-11-01      163\n",
       "1    2022-11-02      185\n",
       "2    2022-11-03      234\n",
       "3    2022-11-04      200\n",
       "4    2022-11-05      119\n",
       "..          ...      ...\n",
       "164  2023-04-14        9\n",
       "165  2023-04-15        8\n",
       "166  2023-04-16       10\n",
       "167  2023-04-17       16\n",
       "168  2023-04-18        3\n",
       "\n",
       "[169 rows x 2 columns]"
      ],
      "text/html": [
       "<div>\n",
       "<style scoped>\n",
       "    .dataframe tbody tr th:only-of-type {\n",
       "        vertical-align: middle;\n",
       "    }\n",
       "\n",
       "    .dataframe tbody tr th {\n",
       "        vertical-align: top;\n",
       "    }\n",
       "\n",
       "    .dataframe thead th {\n",
       "        text-align: right;\n",
       "    }\n",
       "</style>\n",
       "<table border=\"1\" class=\"dataframe\">\n",
       "  <thead>\n",
       "    <tr style=\"text-align: right;\">\n",
       "      <th></th>\n",
       "      <th>event_time</th>\n",
       "      <th>user_id</th>\n",
       "    </tr>\n",
       "  </thead>\n",
       "  <tbody>\n",
       "    <tr>\n",
       "      <th>0</th>\n",
       "      <td>2022-11-01</td>\n",
       "      <td>163</td>\n",
       "    </tr>\n",
       "    <tr>\n",
       "      <th>1</th>\n",
       "      <td>2022-11-02</td>\n",
       "      <td>185</td>\n",
       "    </tr>\n",
       "    <tr>\n",
       "      <th>2</th>\n",
       "      <td>2022-11-03</td>\n",
       "      <td>234</td>\n",
       "    </tr>\n",
       "    <tr>\n",
       "      <th>3</th>\n",
       "      <td>2022-11-04</td>\n",
       "      <td>200</td>\n",
       "    </tr>\n",
       "    <tr>\n",
       "      <th>4</th>\n",
       "      <td>2022-11-05</td>\n",
       "      <td>119</td>\n",
       "    </tr>\n",
       "    <tr>\n",
       "      <th>...</th>\n",
       "      <td>...</td>\n",
       "      <td>...</td>\n",
       "    </tr>\n",
       "    <tr>\n",
       "      <th>164</th>\n",
       "      <td>2023-04-14</td>\n",
       "      <td>9</td>\n",
       "    </tr>\n",
       "    <tr>\n",
       "      <th>165</th>\n",
       "      <td>2023-04-15</td>\n",
       "      <td>8</td>\n",
       "    </tr>\n",
       "    <tr>\n",
       "      <th>166</th>\n",
       "      <td>2023-04-16</td>\n",
       "      <td>10</td>\n",
       "    </tr>\n",
       "    <tr>\n",
       "      <th>167</th>\n",
       "      <td>2023-04-17</td>\n",
       "      <td>16</td>\n",
       "    </tr>\n",
       "    <tr>\n",
       "      <th>168</th>\n",
       "      <td>2023-04-18</td>\n",
       "      <td>3</td>\n",
       "    </tr>\n",
       "  </tbody>\n",
       "</table>\n",
       "<p>169 rows × 2 columns</p>\n",
       "</div>"
      ]
     },
     "execution_count": 38,
     "metadata": {},
     "output_type": "execute_result"
    }
   ],
   "execution_count": 38
  },
  {
   "metadata": {
    "ExecuteTime": {
     "end_time": "2024-05-15T07:08:49.408331Z",
     "start_time": "2024-05-15T07:08:48.881806Z"
    }
   },
   "cell_type": "code",
   "source": [
    "plt.figure(figsize=(15,5))\n",
    "plt.bar(df_count_days['event_time'], df_count_days['user_id'], color='blue')\n",
    "plt.title('Active paid Users')\n",
    "plt.ylabel('Count');"
   ],
   "id": "9ed1207cafb51c9a",
   "outputs": [
    {
     "data": {
      "text/plain": [
       "<Figure size 1500x500 with 1 Axes>"
      ],
      "image/png": "[encoded data removed]"
     },
     "metadata": {},
     "output_type": "display_data"
    }
   ],
   "execution_count": 39
  },
  {
   "metadata": {},
   "cell_type": "markdown",
   "source": "З графіку вище видно, що найбільший пік користувачів був протягом першого місяця, а далі вже активність paid users спадає, і тримається на низькому рівні",
   "id": "738f5111f60cf441"
  },
  {
   "metadata": {
    "ExecuteTime": {
     "end_time": "2024-05-15T07:12:51.036528Z",
     "start_time": "2024-05-15T07:12:50.969139Z"
    }
   },
   "cell_type": "code",
   "source": [
    "# Датасет з діями які paid_users\n",
    "df_app_paid_users = df_app[df_app['user_id'].isin(all_paid_users['user_id'].unique())]\n",
    "df_app_paid_users = df_app_paid_users.reset_index(drop = True)\n",
    "df_app_paid_users.user_id.nunique()\n",
    "# Юзери які робили сканування або редагування хоча б 1 раз\n",
    "df_app_paid_users_active = df_app_paid_users[df_app_paid_users['event_type'].isin(['scan', 'adjustment'])].reset_index(drop = True)\n",
    "df_app_paid_users_active['event_time'] = pd.to_datetime(df_app_paid_users_active['event_time']).dt.date\n",
    "\n",
    "event_type_count_users = df_app_paid_users_active.groupby('event_type')['user_id'].nunique().reset_index()\n",
    "\n",
    "events_users_count = df_app_paid_users_active.groupby(['user_id', 'event_type']).size().unstack(fill_value=0).reset_index()\n",
    "\n",
    "event_type_count_users"
   ],
   "id": "5c9db705fcc8ac8d",
   "outputs": [
    {
     "data": {
      "text/plain": [
       "   event_type  user_id\n",
       "0  adjustment     1853\n",
       "1        scan     5548"
      ],
      "text/html": [
       "<div>\n",
       "<style scoped>\n",
       "    .dataframe tbody tr th:only-of-type {\n",
       "        vertical-align: middle;\n",
       "    }\n",
       "\n",
       "    .dataframe tbody tr th {\n",
       "        vertical-align: top;\n",
       "    }\n",
       "\n",
       "    .dataframe thead th {\n",
       "        text-align: right;\n",
       "    }\n",
       "</style>\n",
       "<table border=\"1\" class=\"dataframe\">\n",
       "  <thead>\n",
       "    <tr style=\"text-align: right;\">\n",
       "      <th></th>\n",
       "      <th>event_type</th>\n",
       "      <th>user_id</th>\n",
       "    </tr>\n",
       "  </thead>\n",
       "  <tbody>\n",
       "    <tr>\n",
       "      <th>0</th>\n",
       "      <td>adjustment</td>\n",
       "      <td>1853</td>\n",
       "    </tr>\n",
       "    <tr>\n",
       "      <th>1</th>\n",
       "      <td>scan</td>\n",
       "      <td>5548</td>\n",
       "    </tr>\n",
       "  </tbody>\n",
       "</table>\n",
       "</div>"
      ]
     },
     "execution_count": 44,
     "metadata": {},
     "output_type": "execute_result"
    }
   ],
   "execution_count": 44
  },
  {
   "metadata": {
    "ExecuteTime": {
     "end_time": "2024-05-15T07:08:50.911667Z",
     "start_time": "2024-05-15T07:08:50.903070Z"
    }
   },
   "cell_type": "code",
   "source": [
    "# Юзери які не робили жодного сканування або редагування, але платили принаймні 1 раз\n",
    "df_app_paid_users_unactive = df_app_paid_users[~df_app_paid_users['user_id'].isin(df_app_paid_users_active['user_id'])]\n",
    "count_unactive = df_app_paid_users_unactive['user_id'].nunique()\n",
    "count_unactive"
   ],
   "id": "3c9afa3b349fac19",
   "outputs": [
    {
     "data": {
      "text/plain": [
       "1641"
      ]
     },
     "execution_count": 41,
     "metadata": {},
     "output_type": "execute_result"
    }
   ],
   "execution_count": 41
  },
  {
   "metadata": {
    "ExecuteTime": {
     "end_time": "2024-05-15T07:14:18.241585Z",
     "start_time": "2024-05-15T07:14:18.235378Z"
    }
   },
   "cell_type": "code",
   "source": [
    "avg_scan_paid = events_users_count['scan'].mean() # without only trial users ЗАМІНИВ ТУТ events_paid_users на events_users_count\n",
    "avg_scan_free = event_counts_filtered['scan_count'].mean()\n",
    "avg_scan_paid, avg_scan_free"
   ],
   "id": "3113eb9c83064b86",
   "outputs": [
    {
     "data": {
      "text/plain": [
       "(3.3134087237479806, 1.3807169876203575)"
      ]
     },
     "execution_count": 46,
     "metadata": {},
     "output_type": "execute_result"
    }
   ],
   "execution_count": 46
  },
  {
   "metadata": {},
   "cell_type": "markdown",
   "source": "Середня кількість сканувань серед юзерів які робили хоча б одну оплату значно вища ніж серед всіх користувачів.",
   "id": "90855cd197a06971"
  },
  {
   "metadata": {
    "ExecuteTime": {
     "end_time": "2024-05-15T07:14:54.051368Z",
     "start_time": "2024-05-15T07:14:53.933692Z"
    }
   },
   "cell_type": "code",
   "source": [
    "# ЗАМІНИТИ ТУТ events_paid_users на events_users_count\n",
    "sum_adjustment_paid = events_paid_users['adjustment'].sum()\n",
    "sum_scan_paid = events_paid_users['scan'].sum()\n",
    "categories = ['adjustment', 'scan']\n",
    "sum_values = [sum_adjustment_paid, sum_scan_paid]\n",
    "\n",
    "percentage = sum_scan_paid / (sum_adjustment_paid + sum_scan_paid) * 100\n",
    "print(f'Percentage: {round(percentage,2 )}%')\n",
    "\n",
    "# Побудова гістограми\n",
    "plt.bar(categories, sum_values, color=['blue', 'orange'])\n",
    "\n",
    "# Налаштування заголовка та міток осей\n",
    "plt.title('adjustment vs scan for paid Users')\n",
    "plt.xlabel('Категорії')\n",
    "plt.ylabel('Кількість')\n",
    "plt.show()"
   ],
   "id": "3464201b604c6a15",
   "outputs": [
    {
     "name": "stdout",
     "output_type": "stream",
     "text": [
      "Percentage: 80.67%\n"
     ]
    },
    {
     "data": {
      "text/plain": [
       "<Figure size 640x480 with 1 Axes>"
      ],
      "image/png": "[encoded data removed]"
     },
     "metadata": {},
     "output_type": "display_data"
    }
   ],
   "execution_count": 47
  },
  {
   "metadata": {},
   "cell_type": "markdown",
   "source": [
    "Зберігається така ж тенденція як у випадку для всіх користувачів.\n",
    "Платні користувачі в основному використовують сканування - 80.67%"
   ],
   "id": "af83d5af2374baba"
  },
  {
   "metadata": {
    "ExecuteTime": {
     "end_time": "2024-05-09T06:55:44.744304Z",
     "start_time": "2024-05-09T06:55:44.610685Z"
    }
   },
   "cell_type": "code",
   "source": [
    "event_types = ['adjustment', 'scan', 'unactive']\n",
    "user_ids = [1853, 5548, count_unactive]\n",
    "\n",
    "for i, j in zip(user_ids, event_types):\n",
    "    percentage = i / sum(user_ids) * 100\n",
    "    print(f'{j}: {round(percentage,2 )}%')\n",
    "\n",
    "# Побудова графіка\n",
    "plt.figure(figsize=(15, 5))\n",
    "plt.bar(event_types, user_ids, color=['blue', 'orange'])\n",
    "plt.xlabel('Event Type')\n",
    "plt.ylabel('Count')\n",
    "plt.title('Count of Users by Event Type')\n",
    "plt.show()"
   ],
   "id": "95ddd14da3ae94b0",
   "outputs": [
    {
     "name": "stdout",
     "output_type": "stream",
     "text": [
      "adjustment: 20.49%\n",
      "scan: 61.36%\n",
      "unactive: 18.15%\n"
     ]
    },
    {
     "data": {
      "text/plain": [
       "<Figure size 1500x500 with 1 Axes>"
      ],
      "image/png": "[encoded data removed]"
     },
     "metadata": {},
     "output_type": "display_data"
    }
   ],
   "execution_count": 181
  },
  {
   "metadata": {},
   "cell_type": "markdown",
   "source": [
    "Кількість користувачів які хоча б один раз сканували документ - найбільша (61.36%) \n",
    "Але частка користувачів які не використовували функціонал та користувачі, що використовували редагування майже однакова 18.15% та 20.49% відповідно."
   ],
   "id": "a8469d412d37d136"
  }
 ],
 "metadata": {
  "kernelspec": {
   "display_name": "Python 3",
   "language": "python",
   "name": "python3"
  },
  "language_info": {
   "codemirror_mode": {
    "name": "ipython",
    "version": 2
   },
   "file_extension": ".py",
   "mimetype": "text/x-python",
   "name": "python",
   "nbconvert_exporter": "python",
   "pygments_lexer": "ipython2",
   "version": "2.7.6"
  }
 },
 "nbformat": 4,
 "nbformat_minor": 5
}
