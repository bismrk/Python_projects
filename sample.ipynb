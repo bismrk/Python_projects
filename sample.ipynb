{
 "cells": [
  {
   "cell_type": "code",
   "execution_count": 35,
   "id": "initial_id",
   "metadata": {
    "collapsed": true,
    "ExecuteTime": {
     "end_time": "2024-04-11T07:10:36.945152900Z",
     "start_time": "2024-04-11T07:10:36.891136700Z"
    }
   },
   "outputs": [],
   "source": [
    "import requests\n",
    "from bs4 import BeautifulSoup\n",
    "\n",
    "from datetime import date"
   ]
  },
  {
   "cell_type": "code",
   "outputs": [
    {
     "data": {
      "text/plain": "<Response [200]>"
     },
     "execution_count": 36,
     "metadata": {},
     "output_type": "execute_result"
    }
   ],
   "source": [
    "response = requests.get('https://www.olx.ua/moda-i-stil/muzhskaya-obuv/?currency=UAH&page=1&search%5Bfilter_enum_size%5D%5B0%5D=40_5')\n",
    "response"
   ],
   "metadata": {
    "collapsed": false,
    "ExecuteTime": {
     "end_time": "2024-04-11T07:10:40.171930400Z",
     "start_time": "2024-04-11T07:10:36.952154300Z"
    }
   },
   "id": "b53448630c3aa8c1",
   "execution_count": 36
  },
  {
   "cell_type": "code",
   "outputs": [],
   "source": [
    "html = response.content.decode('utf-8')"
   ],
   "metadata": {
    "collapsed": false,
    "ExecuteTime": {
     "end_time": "2024-04-11T07:10:40.192936600Z",
     "start_time": "2024-04-11T07:10:40.172933Z"
    }
   },
   "id": "d3fbbd0c3974a88b",
   "execution_count": 37
  },
  {
   "cell_type": "code",
   "outputs": [],
   "source": [
    "soup = BeautifulSoup(html,'html.parser')"
   ],
   "metadata": {
    "collapsed": false,
    "ExecuteTime": {
     "end_time": "2024-04-11T07:10:40.327975800Z",
     "start_time": "2024-04-11T07:10:40.189935500Z"
    }
   },
   "id": "c91c621ab8076682",
   "execution_count": 38
  },
  {
   "cell_type": "markdown",
   "source": [
    "PRICE  $COMPLETED # trimmed the data and changed the type to int ! works for ALL currencies"
   ],
   "metadata": {
    "collapsed": false
   },
   "id": "13905beb02d361d1"
  },
  {
   "cell_type": "code",
   "outputs": [
    {
     "data": {
      "text/plain": "['800',\n '5000',\n '4600',\n '1000',\n '1800',\n '1000',\n '750',\n '2000',\n '660',\n '4400',\n '700',\n '950',\n '440',\n '1000',\n '1300',\n '2099',\n '680',\n '1200',\n '1650',\n '3750',\n '849',\n '220',\n '1699',\n '600',\n '800',\n '1450',\n '650',\n '499',\n '800',\n '849',\n '650',\n '1500',\n '950',\n '200',\n '2350',\n '2150',\n '1300',\n '1000',\n '2449',\n '5999',\n '1498',\n '2550',\n '700',\n '750',\n '1875',\n '2950',\n '1699',\n '2000',\n '1600',\n '1999',\n '4600',\n '500']"
     },
     "execution_count": 39,
     "metadata": {},
     "output_type": "execute_result"
    }
   ],
   "source": [
    "price = soup.find_all('p', {'class' : 'css-tyui9s er34gjf0'})\n",
    "price = [item.text.split(' ')[0]+item.text.split(' ')[1] if len(item.text.split(' ')) > 2\n",
    "         else item.text.split(' ')[0]\n",
    "         for item in price]\n",
    "price"
   ],
   "metadata": {
    "collapsed": false,
    "ExecuteTime": {
     "end_time": "2024-04-11T07:10:40.383979200Z",
     "start_time": "2024-04-11T07:10:40.330967900Z"
    }
   },
   "id": "661c119b891703cb",
   "execution_count": 39
  },
  {
   "cell_type": "markdown",
   "source": [
    "NAME $COMPLETED #Nothing to change"
   ],
   "metadata": {
    "collapsed": false
   },
   "id": "d5247a95ab620b10"
  },
  {
   "cell_type": "code",
   "outputs": [
    {
     "data": {
      "text/plain": "['Кросівки Nike air presto',\n 'Кеди Dolce&Gabbana',\n 'Nike Dunk High (40.5 EUR) DD1869-601',\n 'кросівки Reebok оригінал',\n 'кросівки reebok industrial',\n 'Кросівки Saucony original 40.5',\n 'Шльопанці Lacoste',\n 'Кросовки Nike Найк Air',\n 'Кеди від VANS',\n 'Кросівки Nike ACG Air Mada оригінал',\n 'Вінтажні кросівки new balance xc-72 25.5 см',\n 'Nike Revolution 3 бігові кросівки',\n 'Мокасины дышащие унисекс, размер-7.5, длина стельки=25.5 см.',\n 'Кросівки Vans',\n 'Кроссовки Уникс anodyne',\n 'Професійні робочі кросівки кроссовки Puma Safety Fuse Knit 2.0 ориг',\n 'Продам кросівки Reebok.Розмір 40.5 см',\n 'Новые, Оригінал,  Кросівки  Adidas,  Розмір 40',\n 'Adidas Samba кроссовки оригинал.',\n 'Кроссовки Puma LQDcell Omega x Helly Hansen,оригинал,372516-01',\n \"Размер 40.5 26 см Кроссовки Nike Air Force 1 '07 LX  Black Gum\",\n 'Кросівки Puma Serve Pro Lite 40,5 розміру',\n 'Чоловічі кросівки UGG M Greyson  40.5 см (без рідної коробки)',\n 'Состояние новых, удобные легкие кроссовки',\n 'Глушителя для иномарок разные!',\n 'Adidas ozweego celох ОРИГIНАЛ',\n 'Сандалі-гладіатори Fashion',\n 'кросівки nike',\n 'Футзалки Nike Lunargato 2',\n 'Рабочие ботинки Arco кожа Германия 40,5р',\n 'Чоловічі туфлі, натур.шкіра, Italy - Сучасна класика, р.40,5',\n 'Чоловічі кросівки Nike Blazer Mid 77 Vintage, р.40,5 (27см)',\n 'Adidas originals шкіряні кросівки',\n 'Adidas розмір 40',\n 'Кросівки Nike Jordan (40.5) DN4180-103 Оригінал',\n 'Кросівки Adidas Campus',\n 'Кроссовки Уникс anodyne',\n 'Кросівки. Кросовки. Shoes. 40-размер . Nike .Air max. Мужские .Тере',\n \"Оригинал Nike Blazer mid '77 pro club trainers in white and red\",\n 'ОРИГИНАЛ‼️ New Balance (M2002RDN) кроссовки мужские кросівки чоловічі',\n 'Nike Air Max 1 базовые кроссовки 40.5р найк',\n 'Vans Knu Skool Potato 40,5р',\n 'Кросівки Jordan academy оливкові',\n 'Оригінальні кросівки adidas climacool',\n 'Кросівки унісекс PUMA Twitch Runner style #376289-28 Розмір 40.5,',\n 'Чоловічі Кеди, лофери , туфлі , кросівки tommy , томи , zara',\n 'Кросівки Reebok Princess, 40.5р. (26,5см)',\n 'Nike Air Max Plus SE Metalic spezial adidas',\n 'Кеды-Макассины Lacoste Shoes Bayliss Vulc',\n 'Кроссовки, кросівки nike downshifter 11 black cw3411-002',\n 'Nike Dunk High (40.5 EUR) DD1869-601',\n 'Puma кросівки']"
     },
     "execution_count": 40,
     "metadata": {},
     "output_type": "execute_result"
    }
   ],
   "source": [
    "name = soup.find_all('h6', {'class': 'css-16v5mdi er34gjf0'})\n",
    "name = [item.text for item in name]    \n",
    "name "
   ],
   "metadata": {
    "collapsed": false,
    "ExecuteTime": {
     "end_time": "2024-04-11T07:10:40.425987Z",
     "start_time": "2024-04-11T07:10:40.363977800Z"
    }
   },
   "id": "b70a5b623e7d409",
   "execution_count": 40
  },
  {
   "cell_type": "markdown",
   "source": [
    "Date and location of product, # need to extract it\n",
    "\n",
    "LOCATION $COMPLETED"
   ],
   "metadata": {
    "collapsed": false
   },
   "id": "752406f6bb5b0da1"
  },
  {
   "cell_type": "code",
   "outputs": [
    {
     "data": {
      "text/plain": "['Бердичев',\n 'Киев',\n 'Киев',\n 'Львов',\n 'Вараш',\n 'Киев',\n 'Киев',\n 'Киев',\n 'Черновцы',\n 'Кривой Рог',\n 'Умань',\n 'Коломыя',\n 'Днепр',\n 'Херсон',\n 'Винница',\n 'Хмельницкий',\n 'Долина',\n 'Богдановское',\n 'Калуш',\n 'Киев',\n 'Запорожье',\n 'Надворная',\n 'Полтава',\n 'Степная',\n 'Днепр',\n 'Запорожье',\n 'Фастов',\n 'Изяслав',\n 'Броды',\n 'Киев',\n 'Киев',\n 'Киев',\n 'Коломыя',\n 'Чагор',\n 'Киев',\n 'Одесса',\n 'Винница',\n 'Киев',\n 'Высокий',\n 'Котельва',\n 'Черновцы',\n 'Ивано-Франковск',\n 'Киев',\n 'Луцк',\n 'Высокий',\n 'Буча',\n 'Ивано-Франковск',\n 'Одесса',\n 'Харьков',\n 'Тернополь',\n 'Киев',\n 'Кривой Рог']"
     },
     "execution_count": 41,
     "metadata": {},
     "output_type": "execute_result"
    }
   ],
   "source": [
    "date_loc = soup.find_all('p', {'class' : 'css-1a4brun er34gjf0'})\n",
    "date_loc = [item.text for item in date_loc]\n",
    "\n",
    "cities_with_district = [\"Одесса\", \"Киев\", \"Львов\", \"Харьков\", \"Николаев\", \"Винница\", \"Запорожье\", \"Днепр\", \"Житомир\", \"Кропивницкий\", \"Кривой Рог\"]\n",
    "\n",
    "loc = [item[0:item.find(',')] if item[0:item.find(',')] in cities_with_district\n",
    "        else item.split(' - ')[0]\n",
    "        for item in date_loc]\n",
    "loc"
   ],
   "metadata": {
    "collapsed": false,
    "ExecuteTime": {
     "end_time": "2024-04-11T07:10:40.455996700Z",
     "start_time": "2024-04-11T07:10:40.396981400Z"
    }
   },
   "id": "649c02c050b021eb",
   "execution_count": 41
  },
  {
   "cell_type": "markdown",
   "source": [
    "DATE #need to extract it #COMPLETED"
   ],
   "metadata": {
    "collapsed": false
   },
   "id": "1173fdbf03fd3845"
  },
  {
   "cell_type": "code",
   "outputs": [
    {
     "data": {
      "text/plain": "[datetime.date(2024, 4, 10),\n datetime.date(2024, 4, 10),\n datetime.date(2024, 4, 11),\n datetime.date(2024, 4, 11),\n datetime.date(2024, 4, 11),\n datetime.date(2024, 4, 11),\n datetime.date(2024, 4, 11),\n datetime.date(2024, 4, 10),\n datetime.date(2024, 4, 11),\n datetime.date(2024, 4, 11),\n datetime.date(2024, 4, 11),\n datetime.date(2024, 4, 11),\n datetime.date(2024, 4, 11),\n datetime.date(2024, 4, 9),\n datetime.date(2024, 4, 10),\n datetime.date(2024, 4, 10),\n datetime.date(2024, 4, 11),\n datetime.date(2024, 4, 11),\n datetime.date(2024, 4, 11),\n datetime.date(2024, 4, 11),\n datetime.date(2024, 4, 11),\n datetime.date(2024, 4, 11),\n datetime.date(2024, 4, 11),\n datetime.date(2024, 4, 11),\n datetime.date(2024, 4, 11),\n datetime.date(2024, 4, 11),\n datetime.date(2024, 4, 10),\n datetime.date(2024, 4, 9),\n datetime.date(2024, 4, 8),\n datetime.date(2024, 4, 11),\n datetime.date(2024, 4, 11),\n datetime.date(2024, 4, 11),\n datetime.date(2024, 4, 11),\n datetime.date(2024, 4, 11),\n datetime.date(2024, 4, 11),\n datetime.date(2024, 4, 10),\n datetime.date(2024, 4, 10),\n datetime.date(2024, 4, 11),\n datetime.date(2024, 4, 10),\n datetime.date(2024, 4, 10),\n datetime.date(2024, 4, 9),\n datetime.date(2024, 4, 9),\n datetime.date(2024, 4, 10),\n datetime.date(2024, 4, 11),\n datetime.date(2024, 4, 11),\n datetime.date(2024, 4, 11),\n datetime.date(2024, 4, 10),\n datetime.date(2024, 4, 10),\n datetime.date(2024, 4, 10),\n datetime.date(2024, 4, 11),\n datetime.date(2024, 4, 11),\n datetime.date(2024, 4, 11)]"
     },
     "execution_count": 42,
     "metadata": {},
     "output_type": "execute_result"
    }
   ],
   "source": [
    "date_loc = soup.find_all('p', {'class' : 'css-1a4brun er34gjf0'})\n",
    "date_loc = [item.text.split(' - ')[1] for item in date_loc]\n",
    "\n",
    "# Створення словника для відповідності місяців числовим значенням\n",
    "dict = {\n",
    "    'января': 1, 'февраля': 2, 'марта': 3, 'апреля': 4,\n",
    "    'мая': 5, 'июня': 6, 'июля': 7, 'августа': 8,\n",
    "    'сентября': 9, 'октября': 10, 'ноября': 11, 'декабря': 12\n",
    "}\n",
    "\n",
    "my_date = []\n",
    "for item in date_loc :\n",
    "    if 'Сегодня' not in item :\n",
    "        months = int(dict[item.split(' ')[1]]) # extract MONTH \n",
    "        years = int(item.split(' ')[2])  # extract YEAR \n",
    "        if int(item.split(' ')[0]) > 9 :\n",
    "            days = int(item.split(' ')[0])\n",
    "        else :\n",
    "            days = int(item.split(' ')[0][1:2])\n",
    "        dates = date(years, months, days)\n",
    "    else :\n",
    "        dates = date.today()\n",
    "    my_date.append(dates)\n",
    "my_date"
   ],
   "metadata": {
    "collapsed": false,
    "ExecuteTime": {
     "end_time": "2024-04-11T07:10:40.492004100Z",
     "start_time": "2024-04-11T07:10:40.429990300Z"
    }
   },
   "id": "4083317e4061b357",
   "execution_count": 42
  },
  {
   "cell_type": "markdown",
   "source": [
    "Links for products, # delete duplicates"
   ],
   "metadata": {
    "collapsed": false
   },
   "id": "c8000297ba797aca"
  },
  {
   "cell_type": "code",
   "outputs": [
    {
     "data": {
      "text/plain": "{'/d/obyavlenie/adidas-originals-shkryan-krosvki-IDREI6O.html',\n '/d/obyavlenie/adidas-ozweego-celoh-original-IDUYO6a.html',\n '/d/obyavlenie/adidas-rozmr-40-IDTjZFB.html',\n '/d/obyavlenie/adidas-samba-krossovki-original-IDW00YN.html',\n '/d/obyavlenie/cholovch-kedi-loferi-tufl-krosvki-tommy-tomi-zara-IDUGhT9.html',\n '/d/obyavlenie/cholovch-krosvki-nike-blazer-mid-77-vintage-r-40-5-27sm-IDTklsM.html',\n '/d/obyavlenie/cholovch-krosvki-ugg-m-greyson-40-5-sm-bez-rdno-korobki-IDRUkI5.html',\n '/d/obyavlenie/cholovch-tufl-natur-shkra-italy-suchasna-klasika-r-40-5-IDTkiZT.html',\n '/d/obyavlenie/futzalki-nike-lunargato-2-IDUYzeu.html',\n '/d/obyavlenie/glushitelya-dlya-inomarok-raznye-IDW01a0.html',\n '/d/obyavlenie/kedi-dolce-gabbana-IDUZtgu.html',\n '/d/obyavlenie/kedi-vd-vans-IDUZQ6m.html',\n '/d/obyavlenie/kedy-makassiny-lacoste-shoes-bayliss-vulc-IDUYIKn.html',\n '/d/obyavlenie/krosovki-nike-nayk-air-IDUZYde.html',\n '/d/obyavlenie/krossovki-krosvki-nike-downshifter-11-black-cw3411-002-IDUYwuV.html',\n '/d/obyavlenie/krossovki-puma-lqdcell-omega-x-helly-hansen-original-372516-01-IDRPzFL.html',\n '/d/obyavlenie/krossovki-uniks-anodyne-IDUVpo4.html',\n '/d/obyavlenie/krosvki-adidas-campus-IDUY3yZ.html',\n '/d/obyavlenie/krosvki-jordan-academy-olivkov-IDQvGf4.html',\n '/d/obyavlenie/krosvki-krosovki-shoes-40-razmer-nike-air-max-muzhskie-tere-IDTzn6l.html',\n '/d/obyavlenie/krosvki-nike-IDSSKew.html',\n '/d/obyavlenie/krosvki-nike-acg-air-mada-orignal-IDUWqG2.html',\n '/d/obyavlenie/krosvki-nike-air-presto-IDUZNAX.html',\n '/d/obyavlenie/krosvki-nike-jordan-40-5-dn4180-103-orignal-IDUUiMZ.html',\n '/d/obyavlenie/krosvki-puma-serve-pro-lite-40-5-rozmru-IDTeedg.html',\n '/d/obyavlenie/krosvki-reebok-industrial-IDW02vO.html',\n '/d/obyavlenie/krosvki-reebok-orignal-IDW03iC.html',\n '/d/obyavlenie/krosvki-reebok-princess-40-5r-26-5sm-IDS9l7e.html',\n '/d/obyavlenie/krosvki-saucony-original-40-5-IDW020q.html',\n '/d/obyavlenie/krosvki-unseks-puma-twitch-runner-style-376289-28-rozmr-40-5-IDUB7VD.html',\n '/d/obyavlenie/krosvki-vans-IDUT7QI.html',\n '/d/obyavlenie/mokasiny-dyshaschie-uniseks-razmer-7-5-dlina-stelki25-5-sm-IDDIdMT.html',\n '/d/obyavlenie/nike-air-max-1-bazovye-krossovki-40-5r-nayk-IDTNaK3.html',\n '/d/obyavlenie/nike-air-max-plus-se-metalic-spezial-adidas-IDUZZkY.html',\n '/d/obyavlenie/nike-dunk-high-40-5-eur-dd1869-601-IDUUiwU.html',\n '/d/obyavlenie/nike-revolution-3-bgov-krosvki-IDS4iIL.html',\n '/d/obyavlenie/novye-orignal-krosvki-adidas-rozmr-40-IDRMReH.html',\n '/d/obyavlenie/original-new-balance-m2002rdn-krossovki-muzhskie-krosvki-cholovch-IDURgYl.html',\n '/d/obyavlenie/original-nike-blazer-mid-77-pro-club-trainers-in-white-and-red-IDUAMke.html',\n '/d/obyavlenie/orignaln-krosvki-adidas-climacool-IDTkT2a.html',\n '/d/obyavlenie/prodam-krosvki-reebok-rozmr-40-5-sm-IDSvvbu.html',\n '/d/obyavlenie/profesyn-roboch-krosvki-krossovki-puma-safety-fuse-knit-2-0-orig-IDOQJuS.html',\n '/d/obyavlenie/puma-krosvki-IDTqNvX.html',\n '/d/obyavlenie/rabochie-botinki-arco-kozha-germaniya-40-5r-IDTN9Um.html',\n '/d/obyavlenie/razmer-40-5-26-sm-krossovki-nike-air-force-1-07-lx-black-gum-IDUt1Lg.html',\n '/d/obyavlenie/sandal-gladatori-fashion-IDUSsYr.html',\n '/d/obyavlenie/shlopants-lacoste-IDW01X2.html',\n '/d/obyavlenie/sostoyanie-novyh-udobnye-legkie-krossovki-IDUXAPq.html',\n '/d/obyavlenie/vans-knu-skool-potato-40-5r-IDUWqU3.html',\n '/d/obyavlenie/vntazhn-krosvki-new-balance-xc-72-25-5-sm-IDPN48u.html'}"
     },
     "execution_count": 47,
     "metadata": {},
     "output_type": "execute_result"
    }
   ],
   "source": [
    "ref = soup.find_all('a', {'class': 'css-z3gu2d'})\n",
    "ref = set([item.get('href') for item in ref])\n",
    "ref"
   ],
   "metadata": {
    "collapsed": false,
    "ExecuteTime": {
     "end_time": "2024-04-11T07:17:51.717034Z",
     "start_time": "2024-04-11T07:17:51.696028600Z"
    }
   },
   "id": "5d4467026d5ec8e",
   "execution_count": 47
  },
  {
   "cell_type": "markdown",
   "source": [
    "OPTIONAL size of trainers #NOTHING"
   ],
   "metadata": {
    "collapsed": false
   },
   "id": "20bffe0520bc6e48"
  },
  {
   "cell_type": "code",
   "outputs": [
    {
     "data": {
      "text/plain": "['40.5',\n '40.5',\n '40.5',\n '40.5',\n '40.5',\n '40.5',\n '40.5',\n '40.5',\n '40.5',\n '40.5',\n '40.5',\n '40.5',\n '40.5',\n '40.5',\n '40.5',\n '40.5',\n '40.5',\n '40.5',\n '40.5',\n '40.5',\n '40.5',\n '40.5',\n '40.5',\n '40.5',\n '40.5',\n '40.5',\n '40.5',\n '40.5',\n '40.5',\n '40.5',\n '40.5',\n '40.5',\n '40.5',\n '40.5',\n '40.5',\n '40.5',\n '40.5',\n '40.5',\n '40.5',\n '40.5',\n '40.5',\n '40.5',\n '40.5',\n '40.5',\n '40.5',\n '40.5',\n '40.5',\n '40.5',\n '40.5',\n '40.5',\n '40.5',\n '40.5']"
     },
     "execution_count": 44,
     "metadata": {},
     "output_type": "execute_result"
    }
   ],
   "source": [
    "size = soup.find_all('span', {'class': 'css-1x8agcm er34gjf0'})\n",
    "[item.text for item in size]"
   ],
   "metadata": {
    "collapsed": false,
    "ExecuteTime": {
     "end_time": "2024-04-11T07:10:40.540013800Z",
     "start_time": "2024-04-11T07:10:40.491002900Z"
    }
   },
   "id": "a91229988e23b5d4",
   "execution_count": 44
  },
  {
   "cell_type": "code",
   "outputs": [],
   "source": [],
   "metadata": {
    "collapsed": false,
    "ExecuteTime": {
     "end_time": "2024-04-11T07:10:40.541014600Z",
     "start_time": "2024-04-11T07:10:40.523012800Z"
    }
   },
   "id": "5952f3ac6c9460c5",
   "execution_count": 44
  }
 ],
 "metadata": {
  "kernelspec": {
   "display_name": "Python 3",
   "language": "python",
   "name": "python3"
  },
  "language_info": {
   "codemirror_mode": {
    "name": "ipython",
    "version": 2
   },
   "file_extension": ".py",
   "mimetype": "text/x-python",
   "name": "python",
   "nbconvert_exporter": "python",
   "pygments_lexer": "ipython2",
   "version": "2.7.6"
  }
 },
 "nbformat": 4,
 "nbformat_minor": 5
}
